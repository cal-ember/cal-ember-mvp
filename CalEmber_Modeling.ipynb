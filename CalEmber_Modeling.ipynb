{
  "cells": [
    {
      "cell_type": "code",
      "metadata": {
        "source_hash": "c76c7c51",
        "execution_start": 1742426108577,
        "execution_millis": 1,
        "execution_context_id": "b94e09ae-efa2-4619-a9d0-8fd64a8b9e0d",
        "cell_id": "cb023d21269442c698b9e87fa06b9a4f",
        "deepnote_cell_type": "code",
        "id": "PMZf7TUiyQ7U"
      },
      "source": [
        "import pandas as pd\n",
        "import numpy as np\n",
        "import pandas as pd\n",
        "from sklearn.model_selection import train_test_split\n",
        "import xgboost as xgb\n",
        "from sklearn.preprocessing import LabelEncoder\n",
        "import matplotlib.pyplot as plt\n",
        "# !pip install shap\n",
        "import shap\n",
        "from sklearn.preprocessing import StandardScaler\n",
        "from sklearn.preprocessing import LabelEncoder"
      ],
      "execution_count": 25,
      "outputs": []
    },
    {
      "cell_type": "markdown",
      "source": [
        "## Disclaimer: The code below summarizes the key steps in our data pipeline. Please note that additional models, feature engineering techniques, and preprocessing methods were explored during development but are not included here, as this notebook is intended to showcase only the most impactful highlights."
      ],
      "metadata": {
        "id": "ZKQ0NqzI1RKW"
      }
    },
    {
      "cell_type": "markdown",
      "metadata": {
        "cell_id": "0c8eaa55405044069a97494eebfe52e5",
        "deepnote_cell_type": "markdown",
        "id": "L30sgvBIyQ7W"
      },
      "source": [
        "# Dataset Description\n",
        "\n",
        "This dataset combines two data sources: the **California Department of Insurance Homeowners Insurance Study** and **CAL FIRE Damage Inspection (DINS) Data**. It captures details on structural damage from fire incidents along with associated insurance policy information. This integration enables an analysis of how wildfires impact insured properties and offers insights into policy coverage, structural vulnerabilities, and the financial burden on homeowners.\n",
        "\n",
        "- **Source 1:** [California Department of Insurance Homeowners Study](https://www.insurance.ca.gov/0400-news/0200-studies-reports/0250-homeowners-study/#A) provides details about policies, premiums, exposures, and fire coverage amounts by policy type.\n",
        "- **Source 2:** [CAL FIRE DINS Data](https://data.ca.gov/dataset/cal-fire-damage-inspection-dins-data) records specific fire incidents, structural attributes, damage severity, and defense actions taken.\n",
        "\n",
        "---\n",
        "\n",
        "## Schema Overview\n",
        "\n",
        "### 1. Incident and Structural Information:\n",
        "- `OBJECTID`: Unique identifier for each entry.\n",
        "- `Incident Name`: Name of the wildfire incident.\n",
        "- `Incident Number`: Unique code assigned to the incident.\n",
        "- `Incident Start Date`: Start date of the incident.\n",
        "- `Hazard Type`: Type of hazard (e.g., fire).\n",
        "- `City`, `County`, `CAL FIRE Unit`: Location details of the incident.\n",
        "- `Damage`: Reported level of damage to the structure.\n",
        "- `Structure Type`: Type of property (e.g., residential, commercial).\n",
        "- `Roof Construction`, `Exterior Siding`: Construction material details.\n",
        "- `Year Built`: Year the structure was built.\n",
        "- `Structure Defense Actions Taken`: Fire prevention efforts (if any).\n",
        "\n",
        "### 2. Insurance Policy Data:\n",
        "- `Policy Form`: Type of insurance policy (HO, DO, etc.).\n",
        "- `EXP_YEAR`: Policy exposure year.\n",
        "- `EARNED_PREMIUM`: Total earned premium in the given period.\n",
        "- `EARNED_EXPOSURE`: Exposure of policy during the period.\n",
        "- `TOTAL_POLICIES`: Number of active policies.\n",
        "- `AVG_FIRE_COV_A`, `AVG_FIRE_COV_C`: Average coverage amounts for fire.\n",
        "- `AVG_DEDUCTIBLE`: Average deductible for policies.\n",
        "- `ZIP_CODE`: ZIP code associated with the insured property.\n",
        "\n",
        "### 3. Structural Risk Attributes:\n",
        "- `Eaves`, `Vent Screen`, `Deck/Porch On Grade`: Indicators of fire-resistant building elements.\n",
        "- `APN (Parcel)`: Assessor's parcel number.\n",
        "- `Assessed Improved Value (Parcel)`: Value of improvements on the property.\n",
        "\n",
        "### 4. Fire Defense Measures:\n",
        "- `Structure Defense Action Taken`: Indicates if any defense action was performed (Yes/No).\n",
        "\n",
        "---\n",
        "\n",
        "This dataset provides a comprehensive view of both wildfire risks and insurance protection, allowing for deeper analysis of trends in wildfire damage and insurance policy effectiveness.\n"
      ]
    },
    {
      "cell_type": "code",
      "metadata": {
        "source_hash": "bf7970df",
        "execution_start": 1742426108679,
        "execution_millis": 1721,
        "deepnote_table_state": {
          "sortBy": [],
          "filters": [],
          "pageSize": 10,
          "pageIndex": 3999,
          "conditionalFilters": [],
          "wrappedTextColumnIds": []
        },
        "execution_context_id": "b94e09ae-efa2-4619-a9d0-8fd64a8b9e0d",
        "deepnote_table_loading": false,
        "cell_id": "f939947fdeb34afa93563cfb50da9454",
        "deepnote_cell_type": "code",
        "colab": {
          "base_uri": "https://localhost:8080/",
          "height": 860
        },
        "id": "fSr1O8dOyQ7Y",
        "outputId": "d3a74c92-57e5-41d4-da22-9aec676c9bf7"
      },
      "source": [
        "data = pd.read_csv('data.csv')\n",
        "data"
      ],
      "execution_count": 345,
      "outputs": [
        {
          "output_type": "execute_result",
          "data": {
            "text/plain": [
              "       OBJECTID         * Damage        * City * CAL FIRE Unit  County  \\\n",
              "0             1        No Damage       Winters             LNU  Solano   \n",
              "1             2  Affected (1-9%)       Winters             LNU  Solano   \n",
              "2             3        No Damage       Winters             LNU  Solano   \n",
              "3            26        No Damage      Winters              LNU  Solano   \n",
              "4            27        No Damage      Winters              LNU  Solano   \n",
              "...         ...              ...           ...             ...     ...   \n",
              "40054     88854        No Damage  Johnsondale              TUU  Tulare   \n",
              "40055     88856        No Damage  Johnsondale              TUU  Tulare   \n",
              "40056     88863        No Damage  Johnsondale              TUU  Tulare   \n",
              "40057     88864        No Damage  Johnsondale              TUU  Tulare   \n",
              "40058     88865        No Damage  Johnsondale              TUU  Tulare   \n",
              "\n",
              "      * Incident Name Incident Number (e.g. CAAEU 123456)  \\\n",
              "0               Quail                        CALNU 008419   \n",
              "1               Quail                        CALNU 008419   \n",
              "2               Quail                        CALNU 008419   \n",
              "3               Quail                        CALNU 008419   \n",
              "4               Quail                        CALNU 008419   \n",
              "...               ...                                 ...   \n",
              "40054           Windy                        CATUU 000786   \n",
              "40055           Windy                        CATUU 000786   \n",
              "40056           Windy                        CATUU 000786   \n",
              "40057           Windy                        CATUU 000786   \n",
              "40058           Windy                        CATUU 000786   \n",
              "\n",
              "         Incident Start Date Hazard Type Structure Defense Actions Taken  ...  \\\n",
              "0       6/6/2020 12:00:00 AM        Fire                             NaN  ...   \n",
              "1       6/6/2020 12:00:00 AM        Fire            Hand Crew Fuel Break  ...   \n",
              "2       6/6/2020 12:00:00 AM        Fire                             NaN  ...   \n",
              "3       6/6/2020 12:00:00 AM        Fire          Combination of Actions  ...   \n",
              "4       6/6/2020 12:00:00 AM        Fire          Combination of Actions  ...   \n",
              "...                      ...         ...                             ...  ...   \n",
              "40054  9/10/2021 12:00:00 AM        Fire          Combination of Actions  ...   \n",
              "40055  9/10/2021 12:00:00 AM        Fire          Combination of Actions  ...   \n",
              "40056  9/10/2021 12:00:00 AM        Fire          Combination of Actions  ...   \n",
              "40057  9/10/2021 12:00:00 AM        Fire          Combination of Actions  ...   \n",
              "40058  9/10/2021 12:00:00 AM        Fire          Combination of Actions  ...   \n",
              "\n",
              "      Structure Defense Action Taken? EXP_YEAR ZIP_CODE POLICY_FORM  \\\n",
              "0                                  No     2020    95688          HO   \n",
              "1                                 Yes     2020    95688          HO   \n",
              "2                                  No     2020    95688          HO   \n",
              "3                                 Yes     2020    95688          HO   \n",
              "4                                 Yes     2020    95688          HO   \n",
              "...                               ...      ...      ...         ...   \n",
              "40054                             Yes     2021    95249          HO   \n",
              "40055                             Yes     2021    95249          HO   \n",
              "40056                             Yes     2021    95467          MO   \n",
              "40057                             Yes     2021    95467          MO   \n",
              "40058                             Yes     2021    95467          MO   \n",
              "\n",
              "      EARNED_PREMIUM EARNED_EXPOSURE TOTAL_POLICIES AVG_FIRE_COV_A  \\\n",
              "0         11443912.0         9163.61         9890.0      527226.94   \n",
              "1         11443912.0         9163.61         9890.0      527226.94   \n",
              "2         11443912.0         9163.61         9890.0      527226.94   \n",
              "3         11443912.0         9163.61         9890.0      527226.94   \n",
              "4         11443912.0         9163.61         9890.0      527226.94   \n",
              "...              ...             ...            ...            ...   \n",
              "40054      1071376.0          658.76          744.0      389246.70   \n",
              "40055      1071376.0          658.76          744.0      389246.70   \n",
              "40056        57793.0           36.58           38.0      202289.66   \n",
              "40057        57793.0           36.58           38.0      202289.66   \n",
              "40058        57793.0           36.58           38.0      202289.66   \n",
              "\n",
              "      AVG_FIRE_COV_C AVG_DEDUCTIBLE  \n",
              "0          364522.49        1682.99  \n",
              "1          364522.49        1682.99  \n",
              "2          364522.49        1682.99  \n",
              "3          364522.49        1682.99  \n",
              "4          364522.49        1682.99  \n",
              "...              ...            ...  \n",
              "40054      270113.73        2144.98  \n",
              "40055      270113.73        2144.98  \n",
              "40056      113230.95        1042.60  \n",
              "40057      113230.95        1042.60  \n",
              "40058      113230.95        1042.60  \n",
              "\n",
              "[40059 rows x 40 columns]"
            ],
            "text/html": [
              "\n",
              "  <div id=\"df-51c06ced-6bc5-4cca-8483-dddd841491df\" class=\"colab-df-container\">\n",
              "    <div>\n",
              "<style scoped>\n",
              "    .dataframe tbody tr th:only-of-type {\n",
              "        vertical-align: middle;\n",
              "    }\n",
              "\n",
              "    .dataframe tbody tr th {\n",
              "        vertical-align: top;\n",
              "    }\n",
              "\n",
              "    .dataframe thead th {\n",
              "        text-align: right;\n",
              "    }\n",
              "</style>\n",
              "<table border=\"1\" class=\"dataframe\">\n",
              "  <thead>\n",
              "    <tr style=\"text-align: right;\">\n",
              "      <th></th>\n",
              "      <th>OBJECTID</th>\n",
              "      <th>* Damage</th>\n",
              "      <th>* City</th>\n",
              "      <th>* CAL FIRE Unit</th>\n",
              "      <th>County</th>\n",
              "      <th>* Incident Name</th>\n",
              "      <th>Incident Number (e.g. CAAEU 123456)</th>\n",
              "      <th>Incident Start Date</th>\n",
              "      <th>Hazard Type</th>\n",
              "      <th>Structure Defense Actions Taken</th>\n",
              "      <th>...</th>\n",
              "      <th>Structure Defense Action Taken?</th>\n",
              "      <th>EXP_YEAR</th>\n",
              "      <th>ZIP_CODE</th>\n",
              "      <th>POLICY_FORM</th>\n",
              "      <th>EARNED_PREMIUM</th>\n",
              "      <th>EARNED_EXPOSURE</th>\n",
              "      <th>TOTAL_POLICIES</th>\n",
              "      <th>AVG_FIRE_COV_A</th>\n",
              "      <th>AVG_FIRE_COV_C</th>\n",
              "      <th>AVG_DEDUCTIBLE</th>\n",
              "    </tr>\n",
              "  </thead>\n",
              "  <tbody>\n",
              "    <tr>\n",
              "      <th>0</th>\n",
              "      <td>1</td>\n",
              "      <td>No Damage</td>\n",
              "      <td>Winters</td>\n",
              "      <td>LNU</td>\n",
              "      <td>Solano</td>\n",
              "      <td>Quail</td>\n",
              "      <td>CALNU 008419</td>\n",
              "      <td>6/6/2020 12:00:00 AM</td>\n",
              "      <td>Fire</td>\n",
              "      <td>NaN</td>\n",
              "      <td>...</td>\n",
              "      <td>No</td>\n",
              "      <td>2020</td>\n",
              "      <td>95688</td>\n",
              "      <td>HO</td>\n",
              "      <td>11443912.0</td>\n",
              "      <td>9163.61</td>\n",
              "      <td>9890.0</td>\n",
              "      <td>527226.94</td>\n",
              "      <td>364522.49</td>\n",
              "      <td>1682.99</td>\n",
              "    </tr>\n",
              "    <tr>\n",
              "      <th>1</th>\n",
              "      <td>2</td>\n",
              "      <td>Affected (1-9%)</td>\n",
              "      <td>Winters</td>\n",
              "      <td>LNU</td>\n",
              "      <td>Solano</td>\n",
              "      <td>Quail</td>\n",
              "      <td>CALNU 008419</td>\n",
              "      <td>6/6/2020 12:00:00 AM</td>\n",
              "      <td>Fire</td>\n",
              "      <td>Hand Crew Fuel Break</td>\n",
              "      <td>...</td>\n",
              "      <td>Yes</td>\n",
              "      <td>2020</td>\n",
              "      <td>95688</td>\n",
              "      <td>HO</td>\n",
              "      <td>11443912.0</td>\n",
              "      <td>9163.61</td>\n",
              "      <td>9890.0</td>\n",
              "      <td>527226.94</td>\n",
              "      <td>364522.49</td>\n",
              "      <td>1682.99</td>\n",
              "    </tr>\n",
              "    <tr>\n",
              "      <th>2</th>\n",
              "      <td>3</td>\n",
              "      <td>No Damage</td>\n",
              "      <td>Winters</td>\n",
              "      <td>LNU</td>\n",
              "      <td>Solano</td>\n",
              "      <td>Quail</td>\n",
              "      <td>CALNU 008419</td>\n",
              "      <td>6/6/2020 12:00:00 AM</td>\n",
              "      <td>Fire</td>\n",
              "      <td>NaN</td>\n",
              "      <td>...</td>\n",
              "      <td>No</td>\n",
              "      <td>2020</td>\n",
              "      <td>95688</td>\n",
              "      <td>HO</td>\n",
              "      <td>11443912.0</td>\n",
              "      <td>9163.61</td>\n",
              "      <td>9890.0</td>\n",
              "      <td>527226.94</td>\n",
              "      <td>364522.49</td>\n",
              "      <td>1682.99</td>\n",
              "    </tr>\n",
              "    <tr>\n",
              "      <th>3</th>\n",
              "      <td>26</td>\n",
              "      <td>No Damage</td>\n",
              "      <td>Winters</td>\n",
              "      <td>LNU</td>\n",
              "      <td>Solano</td>\n",
              "      <td>Quail</td>\n",
              "      <td>CALNU 008419</td>\n",
              "      <td>6/6/2020 12:00:00 AM</td>\n",
              "      <td>Fire</td>\n",
              "      <td>Combination of Actions</td>\n",
              "      <td>...</td>\n",
              "      <td>Yes</td>\n",
              "      <td>2020</td>\n",
              "      <td>95688</td>\n",
              "      <td>HO</td>\n",
              "      <td>11443912.0</td>\n",
              "      <td>9163.61</td>\n",
              "      <td>9890.0</td>\n",
              "      <td>527226.94</td>\n",
              "      <td>364522.49</td>\n",
              "      <td>1682.99</td>\n",
              "    </tr>\n",
              "    <tr>\n",
              "      <th>4</th>\n",
              "      <td>27</td>\n",
              "      <td>No Damage</td>\n",
              "      <td>Winters</td>\n",
              "      <td>LNU</td>\n",
              "      <td>Solano</td>\n",
              "      <td>Quail</td>\n",
              "      <td>CALNU 008419</td>\n",
              "      <td>6/6/2020 12:00:00 AM</td>\n",
              "      <td>Fire</td>\n",
              "      <td>Combination of Actions</td>\n",
              "      <td>...</td>\n",
              "      <td>Yes</td>\n",
              "      <td>2020</td>\n",
              "      <td>95688</td>\n",
              "      <td>HO</td>\n",
              "      <td>11443912.0</td>\n",
              "      <td>9163.61</td>\n",
              "      <td>9890.0</td>\n",
              "      <td>527226.94</td>\n",
              "      <td>364522.49</td>\n",
              "      <td>1682.99</td>\n",
              "    </tr>\n",
              "    <tr>\n",
              "      <th>...</th>\n",
              "      <td>...</td>\n",
              "      <td>...</td>\n",
              "      <td>...</td>\n",
              "      <td>...</td>\n",
              "      <td>...</td>\n",
              "      <td>...</td>\n",
              "      <td>...</td>\n",
              "      <td>...</td>\n",
              "      <td>...</td>\n",
              "      <td>...</td>\n",
              "      <td>...</td>\n",
              "      <td>...</td>\n",
              "      <td>...</td>\n",
              "      <td>...</td>\n",
              "      <td>...</td>\n",
              "      <td>...</td>\n",
              "      <td>...</td>\n",
              "      <td>...</td>\n",
              "      <td>...</td>\n",
              "      <td>...</td>\n",
              "      <td>...</td>\n",
              "    </tr>\n",
              "    <tr>\n",
              "      <th>40054</th>\n",
              "      <td>88854</td>\n",
              "      <td>No Damage</td>\n",
              "      <td>Johnsondale</td>\n",
              "      <td>TUU</td>\n",
              "      <td>Tulare</td>\n",
              "      <td>Windy</td>\n",
              "      <td>CATUU 000786</td>\n",
              "      <td>9/10/2021 12:00:00 AM</td>\n",
              "      <td>Fire</td>\n",
              "      <td>Combination of Actions</td>\n",
              "      <td>...</td>\n",
              "      <td>Yes</td>\n",
              "      <td>2021</td>\n",
              "      <td>95249</td>\n",
              "      <td>HO</td>\n",
              "      <td>1071376.0</td>\n",
              "      <td>658.76</td>\n",
              "      <td>744.0</td>\n",
              "      <td>389246.70</td>\n",
              "      <td>270113.73</td>\n",
              "      <td>2144.98</td>\n",
              "    </tr>\n",
              "    <tr>\n",
              "      <th>40055</th>\n",
              "      <td>88856</td>\n",
              "      <td>No Damage</td>\n",
              "      <td>Johnsondale</td>\n",
              "      <td>TUU</td>\n",
              "      <td>Tulare</td>\n",
              "      <td>Windy</td>\n",
              "      <td>CATUU 000786</td>\n",
              "      <td>9/10/2021 12:00:00 AM</td>\n",
              "      <td>Fire</td>\n",
              "      <td>Combination of Actions</td>\n",
              "      <td>...</td>\n",
              "      <td>Yes</td>\n",
              "      <td>2021</td>\n",
              "      <td>95249</td>\n",
              "      <td>HO</td>\n",
              "      <td>1071376.0</td>\n",
              "      <td>658.76</td>\n",
              "      <td>744.0</td>\n",
              "      <td>389246.70</td>\n",
              "      <td>270113.73</td>\n",
              "      <td>2144.98</td>\n",
              "    </tr>\n",
              "    <tr>\n",
              "      <th>40056</th>\n",
              "      <td>88863</td>\n",
              "      <td>No Damage</td>\n",
              "      <td>Johnsondale</td>\n",
              "      <td>TUU</td>\n",
              "      <td>Tulare</td>\n",
              "      <td>Windy</td>\n",
              "      <td>CATUU 000786</td>\n",
              "      <td>9/10/2021 12:00:00 AM</td>\n",
              "      <td>Fire</td>\n",
              "      <td>Combination of Actions</td>\n",
              "      <td>...</td>\n",
              "      <td>Yes</td>\n",
              "      <td>2021</td>\n",
              "      <td>95467</td>\n",
              "      <td>MO</td>\n",
              "      <td>57793.0</td>\n",
              "      <td>36.58</td>\n",
              "      <td>38.0</td>\n",
              "      <td>202289.66</td>\n",
              "      <td>113230.95</td>\n",
              "      <td>1042.60</td>\n",
              "    </tr>\n",
              "    <tr>\n",
              "      <th>40057</th>\n",
              "      <td>88864</td>\n",
              "      <td>No Damage</td>\n",
              "      <td>Johnsondale</td>\n",
              "      <td>TUU</td>\n",
              "      <td>Tulare</td>\n",
              "      <td>Windy</td>\n",
              "      <td>CATUU 000786</td>\n",
              "      <td>9/10/2021 12:00:00 AM</td>\n",
              "      <td>Fire</td>\n",
              "      <td>Combination of Actions</td>\n",
              "      <td>...</td>\n",
              "      <td>Yes</td>\n",
              "      <td>2021</td>\n",
              "      <td>95467</td>\n",
              "      <td>MO</td>\n",
              "      <td>57793.0</td>\n",
              "      <td>36.58</td>\n",
              "      <td>38.0</td>\n",
              "      <td>202289.66</td>\n",
              "      <td>113230.95</td>\n",
              "      <td>1042.60</td>\n",
              "    </tr>\n",
              "    <tr>\n",
              "      <th>40058</th>\n",
              "      <td>88865</td>\n",
              "      <td>No Damage</td>\n",
              "      <td>Johnsondale</td>\n",
              "      <td>TUU</td>\n",
              "      <td>Tulare</td>\n",
              "      <td>Windy</td>\n",
              "      <td>CATUU 000786</td>\n",
              "      <td>9/10/2021 12:00:00 AM</td>\n",
              "      <td>Fire</td>\n",
              "      <td>Combination of Actions</td>\n",
              "      <td>...</td>\n",
              "      <td>Yes</td>\n",
              "      <td>2021</td>\n",
              "      <td>95467</td>\n",
              "      <td>MO</td>\n",
              "      <td>57793.0</td>\n",
              "      <td>36.58</td>\n",
              "      <td>38.0</td>\n",
              "      <td>202289.66</td>\n",
              "      <td>113230.95</td>\n",
              "      <td>1042.60</td>\n",
              "    </tr>\n",
              "  </tbody>\n",
              "</table>\n",
              "<p>40059 rows × 40 columns</p>\n",
              "</div>\n",
              "    <div class=\"colab-df-buttons\">\n",
              "\n",
              "  <div class=\"colab-df-container\">\n",
              "    <button class=\"colab-df-convert\" onclick=\"convertToInteractive('df-51c06ced-6bc5-4cca-8483-dddd841491df')\"\n",
              "            title=\"Convert this dataframe to an interactive table.\"\n",
              "            style=\"display:none;\">\n",
              "\n",
              "  <svg xmlns=\"http://www.w3.org/2000/svg\" height=\"24px\" viewBox=\"0 -960 960 960\">\n",
              "    <path d=\"M120-120v-720h720v720H120Zm60-500h600v-160H180v160Zm220 220h160v-160H400v160Zm0 220h160v-160H400v160ZM180-400h160v-160H180v160Zm440 0h160v-160H620v160ZM180-180h160v-160H180v160Zm440 0h160v-160H620v160Z\"/>\n",
              "  </svg>\n",
              "    </button>\n",
              "\n",
              "  <style>\n",
              "    .colab-df-container {\n",
              "      display:flex;\n",
              "      gap: 12px;\n",
              "    }\n",
              "\n",
              "    .colab-df-convert {\n",
              "      background-color: #E8F0FE;\n",
              "      border: none;\n",
              "      border-radius: 50%;\n",
              "      cursor: pointer;\n",
              "      display: none;\n",
              "      fill: #1967D2;\n",
              "      height: 32px;\n",
              "      padding: 0 0 0 0;\n",
              "      width: 32px;\n",
              "    }\n",
              "\n",
              "    .colab-df-convert:hover {\n",
              "      background-color: #E2EBFA;\n",
              "      box-shadow: 0px 1px 2px rgba(60, 64, 67, 0.3), 0px 1px 3px 1px rgba(60, 64, 67, 0.15);\n",
              "      fill: #174EA6;\n",
              "    }\n",
              "\n",
              "    .colab-df-buttons div {\n",
              "      margin-bottom: 4px;\n",
              "    }\n",
              "\n",
              "    [theme=dark] .colab-df-convert {\n",
              "      background-color: #3B4455;\n",
              "      fill: #D2E3FC;\n",
              "    }\n",
              "\n",
              "    [theme=dark] .colab-df-convert:hover {\n",
              "      background-color: #434B5C;\n",
              "      box-shadow: 0px 1px 3px 1px rgba(0, 0, 0, 0.15);\n",
              "      filter: drop-shadow(0px 1px 2px rgba(0, 0, 0, 0.3));\n",
              "      fill: #FFFFFF;\n",
              "    }\n",
              "  </style>\n",
              "\n",
              "    <script>\n",
              "      const buttonEl =\n",
              "        document.querySelector('#df-51c06ced-6bc5-4cca-8483-dddd841491df button.colab-df-convert');\n",
              "      buttonEl.style.display =\n",
              "        google.colab.kernel.accessAllowed ? 'block' : 'none';\n",
              "\n",
              "      async function convertToInteractive(key) {\n",
              "        const element = document.querySelector('#df-51c06ced-6bc5-4cca-8483-dddd841491df');\n",
              "        const dataTable =\n",
              "          await google.colab.kernel.invokeFunction('convertToInteractive',\n",
              "                                                    [key], {});\n",
              "        if (!dataTable) return;\n",
              "\n",
              "        const docLinkHtml = 'Like what you see? Visit the ' +\n",
              "          '<a target=\"_blank\" href=https://colab.research.google.com/notebooks/data_table.ipynb>data table notebook</a>'\n",
              "          + ' to learn more about interactive tables.';\n",
              "        element.innerHTML = '';\n",
              "        dataTable['output_type'] = 'display_data';\n",
              "        await google.colab.output.renderOutput(dataTable, element);\n",
              "        const docLink = document.createElement('div');\n",
              "        docLink.innerHTML = docLinkHtml;\n",
              "        element.appendChild(docLink);\n",
              "      }\n",
              "    </script>\n",
              "  </div>\n",
              "\n",
              "\n",
              "<div id=\"df-b3827c69-6539-44d6-86e4-b5ef860685f0\">\n",
              "  <button class=\"colab-df-quickchart\" onclick=\"quickchart('df-b3827c69-6539-44d6-86e4-b5ef860685f0')\"\n",
              "            title=\"Suggest charts\"\n",
              "            style=\"display:none;\">\n",
              "\n",
              "<svg xmlns=\"http://www.w3.org/2000/svg\" height=\"24px\"viewBox=\"0 0 24 24\"\n",
              "     width=\"24px\">\n",
              "    <g>\n",
              "        <path d=\"M19 3H5c-1.1 0-2 .9-2 2v14c0 1.1.9 2 2 2h14c1.1 0 2-.9 2-2V5c0-1.1-.9-2-2-2zM9 17H7v-7h2v7zm4 0h-2V7h2v10zm4 0h-2v-4h2v4z\"/>\n",
              "    </g>\n",
              "</svg>\n",
              "  </button>\n",
              "\n",
              "<style>\n",
              "  .colab-df-quickchart {\n",
              "      --bg-color: #E8F0FE;\n",
              "      --fill-color: #1967D2;\n",
              "      --hover-bg-color: #E2EBFA;\n",
              "      --hover-fill-color: #174EA6;\n",
              "      --disabled-fill-color: #AAA;\n",
              "      --disabled-bg-color: #DDD;\n",
              "  }\n",
              "\n",
              "  [theme=dark] .colab-df-quickchart {\n",
              "      --bg-color: #3B4455;\n",
              "      --fill-color: #D2E3FC;\n",
              "      --hover-bg-color: #434B5C;\n",
              "      --hover-fill-color: #FFFFFF;\n",
              "      --disabled-bg-color: #3B4455;\n",
              "      --disabled-fill-color: #666;\n",
              "  }\n",
              "\n",
              "  .colab-df-quickchart {\n",
              "    background-color: var(--bg-color);\n",
              "    border: none;\n",
              "    border-radius: 50%;\n",
              "    cursor: pointer;\n",
              "    display: none;\n",
              "    fill: var(--fill-color);\n",
              "    height: 32px;\n",
              "    padding: 0;\n",
              "    width: 32px;\n",
              "  }\n",
              "\n",
              "  .colab-df-quickchart:hover {\n",
              "    background-color: var(--hover-bg-color);\n",
              "    box-shadow: 0 1px 2px rgba(60, 64, 67, 0.3), 0 1px 3px 1px rgba(60, 64, 67, 0.15);\n",
              "    fill: var(--button-hover-fill-color);\n",
              "  }\n",
              "\n",
              "  .colab-df-quickchart-complete:disabled,\n",
              "  .colab-df-quickchart-complete:disabled:hover {\n",
              "    background-color: var(--disabled-bg-color);\n",
              "    fill: var(--disabled-fill-color);\n",
              "    box-shadow: none;\n",
              "  }\n",
              "\n",
              "  .colab-df-spinner {\n",
              "    border: 2px solid var(--fill-color);\n",
              "    border-color: transparent;\n",
              "    border-bottom-color: var(--fill-color);\n",
              "    animation:\n",
              "      spin 1s steps(1) infinite;\n",
              "  }\n",
              "\n",
              "  @keyframes spin {\n",
              "    0% {\n",
              "      border-color: transparent;\n",
              "      border-bottom-color: var(--fill-color);\n",
              "      border-left-color: var(--fill-color);\n",
              "    }\n",
              "    20% {\n",
              "      border-color: transparent;\n",
              "      border-left-color: var(--fill-color);\n",
              "      border-top-color: var(--fill-color);\n",
              "    }\n",
              "    30% {\n",
              "      border-color: transparent;\n",
              "      border-left-color: var(--fill-color);\n",
              "      border-top-color: var(--fill-color);\n",
              "      border-right-color: var(--fill-color);\n",
              "    }\n",
              "    40% {\n",
              "      border-color: transparent;\n",
              "      border-right-color: var(--fill-color);\n",
              "      border-top-color: var(--fill-color);\n",
              "    }\n",
              "    60% {\n",
              "      border-color: transparent;\n",
              "      border-right-color: var(--fill-color);\n",
              "    }\n",
              "    80% {\n",
              "      border-color: transparent;\n",
              "      border-right-color: var(--fill-color);\n",
              "      border-bottom-color: var(--fill-color);\n",
              "    }\n",
              "    90% {\n",
              "      border-color: transparent;\n",
              "      border-bottom-color: var(--fill-color);\n",
              "    }\n",
              "  }\n",
              "</style>\n",
              "\n",
              "  <script>\n",
              "    async function quickchart(key) {\n",
              "      const quickchartButtonEl =\n",
              "        document.querySelector('#' + key + ' button');\n",
              "      quickchartButtonEl.disabled = true;  // To prevent multiple clicks.\n",
              "      quickchartButtonEl.classList.add('colab-df-spinner');\n",
              "      try {\n",
              "        const charts = await google.colab.kernel.invokeFunction(\n",
              "            'suggestCharts', [key], {});\n",
              "      } catch (error) {\n",
              "        console.error('Error during call to suggestCharts:', error);\n",
              "      }\n",
              "      quickchartButtonEl.classList.remove('colab-df-spinner');\n",
              "      quickchartButtonEl.classList.add('colab-df-quickchart-complete');\n",
              "    }\n",
              "    (() => {\n",
              "      let quickchartButtonEl =\n",
              "        document.querySelector('#df-b3827c69-6539-44d6-86e4-b5ef860685f0 button');\n",
              "      quickchartButtonEl.style.display =\n",
              "        google.colab.kernel.accessAllowed ? 'block' : 'none';\n",
              "    })();\n",
              "  </script>\n",
              "</div>\n",
              "\n",
              "  <div id=\"id_fa048150-3901-4af6-85f7-dac2dcc2c624\">\n",
              "    <style>\n",
              "      .colab-df-generate {\n",
              "        background-color: #E8F0FE;\n",
              "        border: none;\n",
              "        border-radius: 50%;\n",
              "        cursor: pointer;\n",
              "        display: none;\n",
              "        fill: #1967D2;\n",
              "        height: 32px;\n",
              "        padding: 0 0 0 0;\n",
              "        width: 32px;\n",
              "      }\n",
              "\n",
              "      .colab-df-generate:hover {\n",
              "        background-color: #E2EBFA;\n",
              "        box-shadow: 0px 1px 2px rgba(60, 64, 67, 0.3), 0px 1px 3px 1px rgba(60, 64, 67, 0.15);\n",
              "        fill: #174EA6;\n",
              "      }\n",
              "\n",
              "      [theme=dark] .colab-df-generate {\n",
              "        background-color: #3B4455;\n",
              "        fill: #D2E3FC;\n",
              "      }\n",
              "\n",
              "      [theme=dark] .colab-df-generate:hover {\n",
              "        background-color: #434B5C;\n",
              "        box-shadow: 0px 1px 3px 1px rgba(0, 0, 0, 0.15);\n",
              "        filter: drop-shadow(0px 1px 2px rgba(0, 0, 0, 0.3));\n",
              "        fill: #FFFFFF;\n",
              "      }\n",
              "    </style>\n",
              "    <button class=\"colab-df-generate\" onclick=\"generateWithVariable('data')\"\n",
              "            title=\"Generate code using this dataframe.\"\n",
              "            style=\"display:none;\">\n",
              "\n",
              "  <svg xmlns=\"http://www.w3.org/2000/svg\" height=\"24px\"viewBox=\"0 0 24 24\"\n",
              "       width=\"24px\">\n",
              "    <path d=\"M7,19H8.4L18.45,9,17,7.55,7,17.6ZM5,21V16.75L18.45,3.32a2,2,0,0,1,2.83,0l1.4,1.43a1.91,1.91,0,0,1,.58,1.4,1.91,1.91,0,0,1-.58,1.4L9.25,21ZM18.45,9,17,7.55Zm-12,3A5.31,5.31,0,0,0,4.9,8.1,5.31,5.31,0,0,0,1,6.5,5.31,5.31,0,0,0,4.9,4.9,5.31,5.31,0,0,0,6.5,1,5.31,5.31,0,0,0,8.1,4.9,5.31,5.31,0,0,0,12,6.5,5.46,5.46,0,0,0,6.5,12Z\"/>\n",
              "  </svg>\n",
              "    </button>\n",
              "    <script>\n",
              "      (() => {\n",
              "      const buttonEl =\n",
              "        document.querySelector('#id_fa048150-3901-4af6-85f7-dac2dcc2c624 button.colab-df-generate');\n",
              "      buttonEl.style.display =\n",
              "        google.colab.kernel.accessAllowed ? 'block' : 'none';\n",
              "\n",
              "      buttonEl.onclick = () => {\n",
              "        google.colab.notebook.generateWithVariable('data');\n",
              "      }\n",
              "      })();\n",
              "    </script>\n",
              "  </div>\n",
              "\n",
              "    </div>\n",
              "  </div>\n"
            ],
            "application/vnd.google.colaboratory.intrinsic+json": {
              "type": "dataframe",
              "variable_name": "data"
            }
          },
          "metadata": {},
          "execution_count": 345
        }
      ]
    },
    {
      "cell_type": "code",
      "metadata": {
        "source_hash": "957547ae",
        "execution_start": 1742426318845,
        "execution_millis": 0,
        "execution_context_id": "b94e09ae-efa2-4619-a9d0-8fd64a8b9e0d",
        "cell_id": "fd7f145562c0452491a5fc07a89231b1",
        "deepnote_cell_type": "code",
        "colab": {
          "base_uri": "https://localhost:8080/"
        },
        "id": "jvsFpNqKyQ7Z",
        "outputId": "6d2a7008-b18e-4f49-e542-250defcf4881"
      },
      "source": [
        "data.info()"
      ],
      "execution_count": 346,
      "outputs": [
        {
          "output_type": "stream",
          "name": "stdout",
          "text": [
            "<class 'pandas.core.frame.DataFrame'>\n",
            "RangeIndex: 40059 entries, 0 to 40058\n",
            "Data columns (total 40 columns):\n",
            " #   Column                                       Non-Null Count  Dtype  \n",
            "---  ------                                       --------------  -----  \n",
            " 0   OBJECTID                                     40059 non-null  int64  \n",
            " 1   * Damage                                     40059 non-null  object \n",
            " 2   * City                                       30122 non-null  object \n",
            " 3   * CAL FIRE Unit                              40059 non-null  object \n",
            " 4   County                                       40033 non-null  object \n",
            " 5   * Incident Name                              40059 non-null  object \n",
            " 6   Incident Number (e.g. CAAEU 123456)          40059 non-null  object \n",
            " 7   Incident Start Date                          40059 non-null  object \n",
            " 8   Hazard Type                                  40059 non-null  object \n",
            " 9   Structure Defense Actions Taken              9972 non-null   object \n",
            " 10  * Structure Type                             40059 non-null  object \n",
            " 11  Structure Category                           40059 non-null  object \n",
            " 12  * Roof Construction                          39904 non-null  object \n",
            " 13  * Eaves                                      39690 non-null  object \n",
            " 14  * Vent Screen                                39683 non-null  object \n",
            " 15  * Exterior Siding                            39774 non-null  object \n",
            " 16  * Window Pane                                39830 non-null  object \n",
            " 17  * Deck/Porch On Grade                        40059 non-null  object \n",
            " 18  * Deck/Porch Elevated                        40059 non-null  object \n",
            " 19  * Patio Cover/Carport Attached to Structure  40059 non-null  object \n",
            " 20  * Fence Attached to Structure                28983 non-null  object \n",
            " 21  APN (parcel)                                 39868 non-null  object \n",
            " 22  Assessed Improved Value (parcel)             38107 non-null  float64\n",
            " 23  Year Built (parcel)                          24667 non-null  float64\n",
            " 24  Site Address (parcel)                        38876 non-null  object \n",
            " 25  GLOBALID                                     40059 non-null  object \n",
            " 26  Latitude                                     40059 non-null  float64\n",
            " 27  Longitude                                    40059 non-null  float64\n",
            " 28  x                                            40059 non-null  float64\n",
            " 29  y                                            40059 non-null  float64\n",
            " 30  Structure Defense Action Taken?              40059 non-null  object \n",
            " 31  EXP_YEAR                                     40059 non-null  int64  \n",
            " 32  ZIP_CODE                                     40059 non-null  int64  \n",
            " 33  POLICY_FORM                                  40059 non-null  object \n",
            " 34  EARNED_PREMIUM                               40059 non-null  float64\n",
            " 35  EARNED_EXPOSURE                              40059 non-null  float64\n",
            " 36  TOTAL_POLICIES                               40059 non-null  float64\n",
            " 37  AVG_FIRE_COV_A                               40059 non-null  float64\n",
            " 38  AVG_FIRE_COV_C                               40059 non-null  float64\n",
            " 39  AVG_DEDUCTIBLE                               40059 non-null  float64\n",
            "dtypes: float64(12), int64(3), object(25)\n",
            "memory usage: 12.2+ MB\n"
          ]
        }
      ]
    },
    {
      "cell_type": "code",
      "source": [
        "data.head(3)"
      ],
      "metadata": {
        "colab": {
          "base_uri": "https://localhost:8080/",
          "height": 366
        },
        "id": "Rv3TPlJLi36f",
        "outputId": "8868df92-65d5-43ee-e897-a85d335fc276"
      },
      "execution_count": 28,
      "outputs": [
        {
          "output_type": "execute_result",
          "data": {
            "text/plain": [
              "   OBJECTID         * Damage   * City * CAL FIRE Unit  County * Incident Name  \\\n",
              "0         1        No Damage  Winters             LNU  Solano           Quail   \n",
              "1         2  Affected (1-9%)  Winters             LNU  Solano           Quail   \n",
              "2         3        No Damage  Winters             LNU  Solano           Quail   \n",
              "\n",
              "  Incident Number (e.g. CAAEU 123456)   Incident Start Date Hazard Type  \\\n",
              "0                        CALNU 008419  6/6/2020 12:00:00 AM        Fire   \n",
              "1                        CALNU 008419  6/6/2020 12:00:00 AM        Fire   \n",
              "2                        CALNU 008419  6/6/2020 12:00:00 AM        Fire   \n",
              "\n",
              "  Structure Defense Actions Taken  ... Structure Defense Action Taken?  \\\n",
              "0                             NaN  ...                              No   \n",
              "1            Hand Crew Fuel Break  ...                             Yes   \n",
              "2                             NaN  ...                              No   \n",
              "\n",
              "  EXP_YEAR ZIP_CODE POLICY_FORM EARNED_PREMIUM EARNED_EXPOSURE TOTAL_POLICIES  \\\n",
              "0     2020    95688          HO     11443912.0         9163.61         9890.0   \n",
              "1     2020    95688          HO     11443912.0         9163.61         9890.0   \n",
              "2     2020    95688          HO     11443912.0         9163.61         9890.0   \n",
              "\n",
              "  AVG_FIRE_COV_A AVG_FIRE_COV_C AVG_DEDUCTIBLE  \n",
              "0      527226.94      364522.49        1682.99  \n",
              "1      527226.94      364522.49        1682.99  \n",
              "2      527226.94      364522.49        1682.99  \n",
              "\n",
              "[3 rows x 40 columns]"
            ],
            "text/html": [
              "\n",
              "  <div id=\"df-6e546a2f-504f-454d-bc00-4144664395e5\" class=\"colab-df-container\">\n",
              "    <div>\n",
              "<style scoped>\n",
              "    .dataframe tbody tr th:only-of-type {\n",
              "        vertical-align: middle;\n",
              "    }\n",
              "\n",
              "    .dataframe tbody tr th {\n",
              "        vertical-align: top;\n",
              "    }\n",
              "\n",
              "    .dataframe thead th {\n",
              "        text-align: right;\n",
              "    }\n",
              "</style>\n",
              "<table border=\"1\" class=\"dataframe\">\n",
              "  <thead>\n",
              "    <tr style=\"text-align: right;\">\n",
              "      <th></th>\n",
              "      <th>OBJECTID</th>\n",
              "      <th>* Damage</th>\n",
              "      <th>* City</th>\n",
              "      <th>* CAL FIRE Unit</th>\n",
              "      <th>County</th>\n",
              "      <th>* Incident Name</th>\n",
              "      <th>Incident Number (e.g. CAAEU 123456)</th>\n",
              "      <th>Incident Start Date</th>\n",
              "      <th>Hazard Type</th>\n",
              "      <th>Structure Defense Actions Taken</th>\n",
              "      <th>...</th>\n",
              "      <th>Structure Defense Action Taken?</th>\n",
              "      <th>EXP_YEAR</th>\n",
              "      <th>ZIP_CODE</th>\n",
              "      <th>POLICY_FORM</th>\n",
              "      <th>EARNED_PREMIUM</th>\n",
              "      <th>EARNED_EXPOSURE</th>\n",
              "      <th>TOTAL_POLICIES</th>\n",
              "      <th>AVG_FIRE_COV_A</th>\n",
              "      <th>AVG_FIRE_COV_C</th>\n",
              "      <th>AVG_DEDUCTIBLE</th>\n",
              "    </tr>\n",
              "  </thead>\n",
              "  <tbody>\n",
              "    <tr>\n",
              "      <th>0</th>\n",
              "      <td>1</td>\n",
              "      <td>No Damage</td>\n",
              "      <td>Winters</td>\n",
              "      <td>LNU</td>\n",
              "      <td>Solano</td>\n",
              "      <td>Quail</td>\n",
              "      <td>CALNU 008419</td>\n",
              "      <td>6/6/2020 12:00:00 AM</td>\n",
              "      <td>Fire</td>\n",
              "      <td>NaN</td>\n",
              "      <td>...</td>\n",
              "      <td>No</td>\n",
              "      <td>2020</td>\n",
              "      <td>95688</td>\n",
              "      <td>HO</td>\n",
              "      <td>11443912.0</td>\n",
              "      <td>9163.61</td>\n",
              "      <td>9890.0</td>\n",
              "      <td>527226.94</td>\n",
              "      <td>364522.49</td>\n",
              "      <td>1682.99</td>\n",
              "    </tr>\n",
              "    <tr>\n",
              "      <th>1</th>\n",
              "      <td>2</td>\n",
              "      <td>Affected (1-9%)</td>\n",
              "      <td>Winters</td>\n",
              "      <td>LNU</td>\n",
              "      <td>Solano</td>\n",
              "      <td>Quail</td>\n",
              "      <td>CALNU 008419</td>\n",
              "      <td>6/6/2020 12:00:00 AM</td>\n",
              "      <td>Fire</td>\n",
              "      <td>Hand Crew Fuel Break</td>\n",
              "      <td>...</td>\n",
              "      <td>Yes</td>\n",
              "      <td>2020</td>\n",
              "      <td>95688</td>\n",
              "      <td>HO</td>\n",
              "      <td>11443912.0</td>\n",
              "      <td>9163.61</td>\n",
              "      <td>9890.0</td>\n",
              "      <td>527226.94</td>\n",
              "      <td>364522.49</td>\n",
              "      <td>1682.99</td>\n",
              "    </tr>\n",
              "    <tr>\n",
              "      <th>2</th>\n",
              "      <td>3</td>\n",
              "      <td>No Damage</td>\n",
              "      <td>Winters</td>\n",
              "      <td>LNU</td>\n",
              "      <td>Solano</td>\n",
              "      <td>Quail</td>\n",
              "      <td>CALNU 008419</td>\n",
              "      <td>6/6/2020 12:00:00 AM</td>\n",
              "      <td>Fire</td>\n",
              "      <td>NaN</td>\n",
              "      <td>...</td>\n",
              "      <td>No</td>\n",
              "      <td>2020</td>\n",
              "      <td>95688</td>\n",
              "      <td>HO</td>\n",
              "      <td>11443912.0</td>\n",
              "      <td>9163.61</td>\n",
              "      <td>9890.0</td>\n",
              "      <td>527226.94</td>\n",
              "      <td>364522.49</td>\n",
              "      <td>1682.99</td>\n",
              "    </tr>\n",
              "  </tbody>\n",
              "</table>\n",
              "<p>3 rows × 40 columns</p>\n",
              "</div>\n",
              "    <div class=\"colab-df-buttons\">\n",
              "\n",
              "  <div class=\"colab-df-container\">\n",
              "    <button class=\"colab-df-convert\" onclick=\"convertToInteractive('df-6e546a2f-504f-454d-bc00-4144664395e5')\"\n",
              "            title=\"Convert this dataframe to an interactive table.\"\n",
              "            style=\"display:none;\">\n",
              "\n",
              "  <svg xmlns=\"http://www.w3.org/2000/svg\" height=\"24px\" viewBox=\"0 -960 960 960\">\n",
              "    <path d=\"M120-120v-720h720v720H120Zm60-500h600v-160H180v160Zm220 220h160v-160H400v160Zm0 220h160v-160H400v160ZM180-400h160v-160H180v160Zm440 0h160v-160H620v160ZM180-180h160v-160H180v160Zm440 0h160v-160H620v160Z\"/>\n",
              "  </svg>\n",
              "    </button>\n",
              "\n",
              "  <style>\n",
              "    .colab-df-container {\n",
              "      display:flex;\n",
              "      gap: 12px;\n",
              "    }\n",
              "\n",
              "    .colab-df-convert {\n",
              "      background-color: #E8F0FE;\n",
              "      border: none;\n",
              "      border-radius: 50%;\n",
              "      cursor: pointer;\n",
              "      display: none;\n",
              "      fill: #1967D2;\n",
              "      height: 32px;\n",
              "      padding: 0 0 0 0;\n",
              "      width: 32px;\n",
              "    }\n",
              "\n",
              "    .colab-df-convert:hover {\n",
              "      background-color: #E2EBFA;\n",
              "      box-shadow: 0px 1px 2px rgba(60, 64, 67, 0.3), 0px 1px 3px 1px rgba(60, 64, 67, 0.15);\n",
              "      fill: #174EA6;\n",
              "    }\n",
              "\n",
              "    .colab-df-buttons div {\n",
              "      margin-bottom: 4px;\n",
              "    }\n",
              "\n",
              "    [theme=dark] .colab-df-convert {\n",
              "      background-color: #3B4455;\n",
              "      fill: #D2E3FC;\n",
              "    }\n",
              "\n",
              "    [theme=dark] .colab-df-convert:hover {\n",
              "      background-color: #434B5C;\n",
              "      box-shadow: 0px 1px 3px 1px rgba(0, 0, 0, 0.15);\n",
              "      filter: drop-shadow(0px 1px 2px rgba(0, 0, 0, 0.3));\n",
              "      fill: #FFFFFF;\n",
              "    }\n",
              "  </style>\n",
              "\n",
              "    <script>\n",
              "      const buttonEl =\n",
              "        document.querySelector('#df-6e546a2f-504f-454d-bc00-4144664395e5 button.colab-df-convert');\n",
              "      buttonEl.style.display =\n",
              "        google.colab.kernel.accessAllowed ? 'block' : 'none';\n",
              "\n",
              "      async function convertToInteractive(key) {\n",
              "        const element = document.querySelector('#df-6e546a2f-504f-454d-bc00-4144664395e5');\n",
              "        const dataTable =\n",
              "          await google.colab.kernel.invokeFunction('convertToInteractive',\n",
              "                                                    [key], {});\n",
              "        if (!dataTable) return;\n",
              "\n",
              "        const docLinkHtml = 'Like what you see? Visit the ' +\n",
              "          '<a target=\"_blank\" href=https://colab.research.google.com/notebooks/data_table.ipynb>data table notebook</a>'\n",
              "          + ' to learn more about interactive tables.';\n",
              "        element.innerHTML = '';\n",
              "        dataTable['output_type'] = 'display_data';\n",
              "        await google.colab.output.renderOutput(dataTable, element);\n",
              "        const docLink = document.createElement('div');\n",
              "        docLink.innerHTML = docLinkHtml;\n",
              "        element.appendChild(docLink);\n",
              "      }\n",
              "    </script>\n",
              "  </div>\n",
              "\n",
              "\n",
              "<div id=\"df-e9ddc542-5370-4af4-8f81-8398db269980\">\n",
              "  <button class=\"colab-df-quickchart\" onclick=\"quickchart('df-e9ddc542-5370-4af4-8f81-8398db269980')\"\n",
              "            title=\"Suggest charts\"\n",
              "            style=\"display:none;\">\n",
              "\n",
              "<svg xmlns=\"http://www.w3.org/2000/svg\" height=\"24px\"viewBox=\"0 0 24 24\"\n",
              "     width=\"24px\">\n",
              "    <g>\n",
              "        <path d=\"M19 3H5c-1.1 0-2 .9-2 2v14c0 1.1.9 2 2 2h14c1.1 0 2-.9 2-2V5c0-1.1-.9-2-2-2zM9 17H7v-7h2v7zm4 0h-2V7h2v10zm4 0h-2v-4h2v4z\"/>\n",
              "    </g>\n",
              "</svg>\n",
              "  </button>\n",
              "\n",
              "<style>\n",
              "  .colab-df-quickchart {\n",
              "      --bg-color: #E8F0FE;\n",
              "      --fill-color: #1967D2;\n",
              "      --hover-bg-color: #E2EBFA;\n",
              "      --hover-fill-color: #174EA6;\n",
              "      --disabled-fill-color: #AAA;\n",
              "      --disabled-bg-color: #DDD;\n",
              "  }\n",
              "\n",
              "  [theme=dark] .colab-df-quickchart {\n",
              "      --bg-color: #3B4455;\n",
              "      --fill-color: #D2E3FC;\n",
              "      --hover-bg-color: #434B5C;\n",
              "      --hover-fill-color: #FFFFFF;\n",
              "      --disabled-bg-color: #3B4455;\n",
              "      --disabled-fill-color: #666;\n",
              "  }\n",
              "\n",
              "  .colab-df-quickchart {\n",
              "    background-color: var(--bg-color);\n",
              "    border: none;\n",
              "    border-radius: 50%;\n",
              "    cursor: pointer;\n",
              "    display: none;\n",
              "    fill: var(--fill-color);\n",
              "    height: 32px;\n",
              "    padding: 0;\n",
              "    width: 32px;\n",
              "  }\n",
              "\n",
              "  .colab-df-quickchart:hover {\n",
              "    background-color: var(--hover-bg-color);\n",
              "    box-shadow: 0 1px 2px rgba(60, 64, 67, 0.3), 0 1px 3px 1px rgba(60, 64, 67, 0.15);\n",
              "    fill: var(--button-hover-fill-color);\n",
              "  }\n",
              "\n",
              "  .colab-df-quickchart-complete:disabled,\n",
              "  .colab-df-quickchart-complete:disabled:hover {\n",
              "    background-color: var(--disabled-bg-color);\n",
              "    fill: var(--disabled-fill-color);\n",
              "    box-shadow: none;\n",
              "  }\n",
              "\n",
              "  .colab-df-spinner {\n",
              "    border: 2px solid var(--fill-color);\n",
              "    border-color: transparent;\n",
              "    border-bottom-color: var(--fill-color);\n",
              "    animation:\n",
              "      spin 1s steps(1) infinite;\n",
              "  }\n",
              "\n",
              "  @keyframes spin {\n",
              "    0% {\n",
              "      border-color: transparent;\n",
              "      border-bottom-color: var(--fill-color);\n",
              "      border-left-color: var(--fill-color);\n",
              "    }\n",
              "    20% {\n",
              "      border-color: transparent;\n",
              "      border-left-color: var(--fill-color);\n",
              "      border-top-color: var(--fill-color);\n",
              "    }\n",
              "    30% {\n",
              "      border-color: transparent;\n",
              "      border-left-color: var(--fill-color);\n",
              "      border-top-color: var(--fill-color);\n",
              "      border-right-color: var(--fill-color);\n",
              "    }\n",
              "    40% {\n",
              "      border-color: transparent;\n",
              "      border-right-color: var(--fill-color);\n",
              "      border-top-color: var(--fill-color);\n",
              "    }\n",
              "    60% {\n",
              "      border-color: transparent;\n",
              "      border-right-color: var(--fill-color);\n",
              "    }\n",
              "    80% {\n",
              "      border-color: transparent;\n",
              "      border-right-color: var(--fill-color);\n",
              "      border-bottom-color: var(--fill-color);\n",
              "    }\n",
              "    90% {\n",
              "      border-color: transparent;\n",
              "      border-bottom-color: var(--fill-color);\n",
              "    }\n",
              "  }\n",
              "</style>\n",
              "\n",
              "  <script>\n",
              "    async function quickchart(key) {\n",
              "      const quickchartButtonEl =\n",
              "        document.querySelector('#' + key + ' button');\n",
              "      quickchartButtonEl.disabled = true;  // To prevent multiple clicks.\n",
              "      quickchartButtonEl.classList.add('colab-df-spinner');\n",
              "      try {\n",
              "        const charts = await google.colab.kernel.invokeFunction(\n",
              "            'suggestCharts', [key], {});\n",
              "      } catch (error) {\n",
              "        console.error('Error during call to suggestCharts:', error);\n",
              "      }\n",
              "      quickchartButtonEl.classList.remove('colab-df-spinner');\n",
              "      quickchartButtonEl.classList.add('colab-df-quickchart-complete');\n",
              "    }\n",
              "    (() => {\n",
              "      let quickchartButtonEl =\n",
              "        document.querySelector('#df-e9ddc542-5370-4af4-8f81-8398db269980 button');\n",
              "      quickchartButtonEl.style.display =\n",
              "        google.colab.kernel.accessAllowed ? 'block' : 'none';\n",
              "    })();\n",
              "  </script>\n",
              "</div>\n",
              "\n",
              "    </div>\n",
              "  </div>\n"
            ],
            "application/vnd.google.colaboratory.intrinsic+json": {
              "type": "dataframe",
              "variable_name": "data"
            }
          },
          "metadata": {},
          "execution_count": 28
        }
      ]
    },
    {
      "cell_type": "code",
      "metadata": {
        "source_hash": "1239724",
        "execution_start": 1742426110526,
        "execution_millis": 1,
        "execution_context_id": "b94e09ae-efa2-4619-a9d0-8fd64a8b9e0d",
        "cell_id": "cfcc9be0d8214320a763f493551ccb1c",
        "deepnote_cell_type": "code",
        "colab": {
          "base_uri": "https://localhost:8080/",
          "height": 398
        },
        "id": "Xr2FFUXuyQ7a",
        "outputId": "4cee387f-8f12-498b-8207-100a326f2afa"
      },
      "source": [
        "data['EXP_YEAR'].value_counts()"
      ],
      "execution_count": 31,
      "outputs": [
        {
          "output_type": "execute_result",
          "data": {
            "text/plain": [
              "EXP_YEAR\n",
              "2018    13922\n",
              "2020     8991\n",
              "2021     7426\n",
              "2017     6407\n",
              "2015     1600\n",
              "2019      975\n",
              "2016      513\n",
              "2014      154\n",
              "2013       71\n",
              "Name: count, dtype: int64"
            ],
            "text/html": [
              "<div>\n",
              "<style scoped>\n",
              "    .dataframe tbody tr th:only-of-type {\n",
              "        vertical-align: middle;\n",
              "    }\n",
              "\n",
              "    .dataframe tbody tr th {\n",
              "        vertical-align: top;\n",
              "    }\n",
              "\n",
              "    .dataframe thead th {\n",
              "        text-align: right;\n",
              "    }\n",
              "</style>\n",
              "<table border=\"1\" class=\"dataframe\">\n",
              "  <thead>\n",
              "    <tr style=\"text-align: right;\">\n",
              "      <th></th>\n",
              "      <th>count</th>\n",
              "    </tr>\n",
              "    <tr>\n",
              "      <th>EXP_YEAR</th>\n",
              "      <th></th>\n",
              "    </tr>\n",
              "  </thead>\n",
              "  <tbody>\n",
              "    <tr>\n",
              "      <th>2018</th>\n",
              "      <td>13922</td>\n",
              "    </tr>\n",
              "    <tr>\n",
              "      <th>2020</th>\n",
              "      <td>8991</td>\n",
              "    </tr>\n",
              "    <tr>\n",
              "      <th>2021</th>\n",
              "      <td>7426</td>\n",
              "    </tr>\n",
              "    <tr>\n",
              "      <th>2017</th>\n",
              "      <td>6407</td>\n",
              "    </tr>\n",
              "    <tr>\n",
              "      <th>2015</th>\n",
              "      <td>1600</td>\n",
              "    </tr>\n",
              "    <tr>\n",
              "      <th>2019</th>\n",
              "      <td>975</td>\n",
              "    </tr>\n",
              "    <tr>\n",
              "      <th>2016</th>\n",
              "      <td>513</td>\n",
              "    </tr>\n",
              "    <tr>\n",
              "      <th>2014</th>\n",
              "      <td>154</td>\n",
              "    </tr>\n",
              "    <tr>\n",
              "      <th>2013</th>\n",
              "      <td>71</td>\n",
              "    </tr>\n",
              "  </tbody>\n",
              "</table>\n",
              "</div><br><label><b>dtype:</b> int64</label>"
            ]
          },
          "metadata": {},
          "execution_count": 31
        }
      ]
    },
    {
      "cell_type": "code",
      "metadata": {
        "source_hash": "3e19164e",
        "execution_start": 1742426110587,
        "execution_millis": 8,
        "execution_context_id": "b94e09ae-efa2-4619-a9d0-8fd64a8b9e0d",
        "cell_id": "981790eb9aa74f108d00270c20a4ddee",
        "deepnote_cell_type": "code",
        "colab": {
          "base_uri": "https://localhost:8080/",
          "height": 304
        },
        "id": "l8XdUDxxyQ7a",
        "outputId": "b5bb38f2-095c-46fb-92d5-e9a720a13fba"
      },
      "source": [
        "data['* Damage'].value_counts()"
      ],
      "execution_count": 32,
      "outputs": [
        {
          "output_type": "execute_result",
          "data": {
            "text/plain": [
              "* Damage\n",
              "Destroyed (>50%)    23180\n",
              "No Damage           14728\n",
              "Affected (1-9%)      1509\n",
              "Minor (10-25%)        399\n",
              "Major (26-50%)        160\n",
              "Inaccessible           83\n",
              "Name: count, dtype: int64"
            ],
            "text/html": [
              "<div>\n",
              "<style scoped>\n",
              "    .dataframe tbody tr th:only-of-type {\n",
              "        vertical-align: middle;\n",
              "    }\n",
              "\n",
              "    .dataframe tbody tr th {\n",
              "        vertical-align: top;\n",
              "    }\n",
              "\n",
              "    .dataframe thead th {\n",
              "        text-align: right;\n",
              "    }\n",
              "</style>\n",
              "<table border=\"1\" class=\"dataframe\">\n",
              "  <thead>\n",
              "    <tr style=\"text-align: right;\">\n",
              "      <th></th>\n",
              "      <th>count</th>\n",
              "    </tr>\n",
              "    <tr>\n",
              "      <th>* Damage</th>\n",
              "      <th></th>\n",
              "    </tr>\n",
              "  </thead>\n",
              "  <tbody>\n",
              "    <tr>\n",
              "      <th>Destroyed (&gt;50%)</th>\n",
              "      <td>23180</td>\n",
              "    </tr>\n",
              "    <tr>\n",
              "      <th>No Damage</th>\n",
              "      <td>14728</td>\n",
              "    </tr>\n",
              "    <tr>\n",
              "      <th>Affected (1-9%)</th>\n",
              "      <td>1509</td>\n",
              "    </tr>\n",
              "    <tr>\n",
              "      <th>Minor (10-25%)</th>\n",
              "      <td>399</td>\n",
              "    </tr>\n",
              "    <tr>\n",
              "      <th>Major (26-50%)</th>\n",
              "      <td>160</td>\n",
              "    </tr>\n",
              "    <tr>\n",
              "      <th>Inaccessible</th>\n",
              "      <td>83</td>\n",
              "    </tr>\n",
              "  </tbody>\n",
              "</table>\n",
              "</div><br><label><b>dtype:</b> int64</label>"
            ]
          },
          "metadata": {},
          "execution_count": 32
        }
      ]
    },
    {
      "cell_type": "markdown",
      "source": [
        "Imbalance in Classes"
      ],
      "metadata": {
        "id": "IcgS0-1glPt1"
      }
    },
    {
      "cell_type": "markdown",
      "metadata": {
        "formattedRanges": [],
        "cell_id": "c603ff3593304f5d9e0ce7dbb4c7740b",
        "deepnote_cell_type": "text-cell-h1",
        "id": "BN9mViqXyQ7a"
      },
      "source": [
        "# Exploratory Data Analysis"
      ]
    },
    {
      "cell_type": "code",
      "metadata": {
        "source_hash": "6fdcaea6",
        "execution_start": 1742426110645,
        "execution_millis": 0,
        "execution_context_id": "b94e09ae-efa2-4619-a9d0-8fd64a8b9e0d",
        "cell_id": "1875b7471f734cb7850defe41e5e5916",
        "deepnote_cell_type": "code",
        "id": "toTVNXBqyQ7b"
      },
      "source": [
        "# # Import necessary library\n",
        "# from ydata_profiling import ProfileReport\n",
        "\n",
        "# # Generate a profile report of the dataset to inspect data types, missing values, and summary statistics\n",
        "# profile = ProfileReport(data, title=\"Damages & Premiums Data\", html={\"style\": {\"full_width\": True}}, sort=None)\n",
        "# profile.to_file(\"EDA_report.html\")"
      ],
      "execution_count": null,
      "outputs": []
    },
    {
      "cell_type": "markdown",
      "metadata": {
        "formattedRanges": [
          {
            "url": "https://deepnote.com/workspace/datasci200-0e0a8d48-55fb-4615-86b0-311474c433d3/project/210-Capstone-EDA-a078e84f-ce65-45cc-b708-ddfc6f169b3b/EDA_report.html",
            "type": "link",
            "ranges": [],
            "toCodePoint": 203,
            "fromCodePoint": 47
          }
        ],
        "cell_id": "ffb4b8e2bc0b4f9980b4fdf844f5f5f9",
        "deepnote_cell_type": "text-cell-p",
        "id": "LnmJIXU-yQ7b"
      },
      "source": [
        "See the above report by downloading this file: https://deepnote.com/workspace/datasci200-0e0a8d48-55fb-4615-86b0-311474c433d3/project/210-Capstone-EDA-a078e84f-ce65-45cc-b708-ddfc6f169b3b/EDA_report.html"
      ]
    },
    {
      "cell_type": "markdown",
      "metadata": {
        "formattedRanges": [],
        "cell_id": "57a37951c96344a3a541b720422596f8",
        "deepnote_cell_type": "text-cell-h2",
        "id": "CgX5rFaFyQ7b"
      },
      "source": [
        "## Average Total Premium by Damage Level"
      ]
    },
    {
      "cell_type": "markdown",
      "metadata": {
        "formattedRanges": [],
        "cell_id": "7c79db08dfdb40d7a348b4cec2f7a079",
        "deepnote_cell_type": "text-cell-p",
        "id": "WEMGidVsyQ7b"
      },
      "source": [
        "Excluded the \"Inaccessible\" category as it is vague as to whether it is high or low damage"
      ]
    },
    {
      "cell_type": "code",
      "metadata": {
        "source_hash": "e5bf1b07",
        "execution_start": 1742426110725,
        "execution_millis": 4065,
        "execution_context_id": "b94e09ae-efa2-4619-a9d0-8fd64a8b9e0d",
        "cell_id": "86518d993a5b4e4b8b44e43c1d257904",
        "deepnote_cell_type": "code",
        "colab": {
          "base_uri": "https://localhost:8080/",
          "height": 897
        },
        "id": "ijIp_2-wyQ7b",
        "outputId": "b5da2d84-72b9-440f-e579-06cb97b1e8ea"
      },
      "source": [
        "import matplotlib.pyplot as plt\n",
        "import seaborn as sns\n",
        "\n",
        "# Calculate the estimated total premium using earned premium and exposure\n",
        "data['Estimated_Total_Premium'] = data['EARNED_PREMIUM'] / data['EARNED_EXPOSURE']\n",
        "\n",
        "# Prepare data: Filter and aggregate relevant data\n",
        "grouped_data = data.groupby(['ZIP_CODE', '* Damage']).agg(\n",
        "    avg_premium=('EARNED_PREMIUM', 'mean'),\n",
        "    avg_fire_cov_A=('AVG_FIRE_COV_A', 'mean'),\n",
        "    avg_fire_cov_C=('AVG_FIRE_COV_C', 'mean'),\n",
        "    count=('OBJECTID', 'count')\n",
        ").reset_index()\n",
        "\n",
        "# Define the corrected order for damage severity based on the dataset, excluding 'Inaccessible'\n",
        "corrected_damage_order = [\n",
        "    'No Damage',\n",
        "    'Affected (1-9%)',\n",
        "    'Minor (10-25%)',\n",
        "    'Major (26-50%)',\n",
        "    'Destroyed (>50%)'\n",
        "]\n",
        "\n",
        "# Filter and re-order the data based on corrected damage severity\n",
        "filtered_premium_by_damage = data[data['* Damage'].isin(corrected_damage_order)]\n",
        "filtered_premium_by_damage['* Damage'] = pd.Categorical(\n",
        "    filtered_premium_by_damage['* Damage'],\n",
        "    categories=corrected_damage_order,\n",
        "    ordered=True\n",
        ")\n",
        "\n",
        "# Re-group the data with the corrected categories\n",
        "premium_by_damage_corrected = filtered_premium_by_damage.groupby('* Damage').agg(\n",
        "    avg_estimated_premium=('Estimated_Total_Premium', 'mean')\n",
        ").reset_index()\n",
        "\n",
        "# Define a gradient color palette from green to red\n",
        "palette = sns.color_palette(\"RdYlGn_r\", len(corrected_damage_order))  # 'r' reverses the palette for left-to-right\n",
        "\n",
        "# Plot: Average Estimated Total Premium by Damage Level with corrected order\n",
        "plt.figure(figsize=(10, 6))\n",
        "sns.barplot(\n",
        "    x='* Damage',\n",
        "    y='avg_estimated_premium',\n",
        "    data=premium_by_damage_corrected,\n",
        "    order=corrected_damage_order,\n",
        "    palette=palette\n",
        ")\n",
        "plt.title('Average Estimated Total Premium by Damage Level (Excluding Inaccessible)')\n",
        "plt.xlabel('Damage Level')\n",
        "plt.ylabel('Average Estimated Total Premium ($)')\n",
        "plt.xticks(rotation=45)\n",
        "plt.show()\n"
      ],
      "execution_count": null,
      "outputs": [
        {
          "output_type": "stream",
          "name": "stderr",
          "text": [
            "<ipython-input-8-da8542296622>:26: SettingWithCopyWarning: \n",
            "A value is trying to be set on a copy of a slice from a DataFrame.\n",
            "Try using .loc[row_indexer,col_indexer] = value instead\n",
            "\n",
            "See the caveats in the documentation: https://pandas.pydata.org/pandas-docs/stable/user_guide/indexing.html#returning-a-view-versus-a-copy\n",
            "  filtered_premium_by_damage['* Damage'] = pd.Categorical(\n",
            "<ipython-input-8-da8542296622>:33: FutureWarning: The default of observed=False is deprecated and will be changed to True in a future version of pandas. Pass observed=False to retain current behavior or observed=True to adopt the future default and silence this warning.\n",
            "  premium_by_damage_corrected = filtered_premium_by_damage.groupby('* Damage').agg(\n",
            "<ipython-input-8-da8542296622>:42: FutureWarning: \n",
            "\n",
            "Passing `palette` without assigning `hue` is deprecated and will be removed in v0.14.0. Assign the `x` variable to `hue` and set `legend=False` for the same effect.\n",
            "\n",
            "  sns.barplot(\n"
          ]
        },
        {
          "output_type": "display_data",
          "data": {
            "text/plain": [
              "<Figure size 1000x600 with 1 Axes>"
            ],
            "image/png": "[encoded data removed]"
          },
          "metadata": {}
        }
      ]
    },
    {
      "cell_type": "code",
      "metadata": {
        "source_hash": "35535663",
        "execution_start": 1742426114855,
        "execution_millis": 83,
        "execution_context_id": "b94e09ae-efa2-4619-a9d0-8fd64a8b9e0d",
        "cell_id": "7b0aa98d4ab34b3aa7438e457498f58e",
        "deepnote_cell_type": "code",
        "colab": {
          "base_uri": "https://localhost:8080/",
          "height": 260
        },
        "id": "vlIEJH8yyQ7b",
        "outputId": "2132d0c0-2367-41c8-ef08-4af22b180ec1"
      },
      "source": [
        "damage_analysis = filtered_premium_by_damage.groupby('* Damage').agg(\n",
        "    count=('OBJECTID', 'count'),\n",
        "    avg_estimated_premium=('Estimated_Total_Premium', 'mean'),\n",
        "    median_estimated_premium=('Estimated_Total_Premium', 'median'),\n",
        "    total_coverage_A=('AVG_FIRE_COV_A', 'sum'),\n",
        "    avg_coverage_A=('AVG_FIRE_COV_A', 'mean')\n",
        ").reset_index()\n",
        "\n",
        "damage_analysis"
      ],
      "execution_count": null,
      "outputs": [
        {
          "output_type": "stream",
          "name": "stderr",
          "text": [
            "<ipython-input-9-4fcd8f92d213>:1: FutureWarning: The default of observed=False is deprecated and will be changed to True in a future version of pandas. Pass observed=False to retain current behavior or observed=True to adopt the future default and silence this warning.\n",
            "  damage_analysis = filtered_premium_by_damage.groupby('* Damage').agg(\n"
          ]
        },
        {
          "output_type": "execute_result",
          "data": {
            "text/plain": [
              "           * Damage  count  avg_estimated_premium  median_estimated_premium  \\\n",
              "0         No Damage  14728            1609.586383               1418.304792   \n",
              "1   Affected (1-9%)   1509            1951.050765               1332.783391   \n",
              "2    Minor (10-25%)    399            2292.692025               1431.868829   \n",
              "3    Major (26-50%)    160            1941.485029               1351.861780   \n",
              "4  Destroyed (>50%)  23180            1186.027035               1097.344522   \n",
              "\n",
              "   total_coverage_A  avg_coverage_A  \n",
              "0      7.190558e+09   488223.689193  \n",
              "1      9.600149e+08   636192.792200  \n",
              "2      2.935658e+08   735753.954486  \n",
              "3      9.926854e+07   620428.402125  \n",
              "4      8.257022e+09   356213.190634  "
            ],
            "text/html": [
              "\n",
              "  <div id=\"df-2982ab89-216a-4ba9-8710-3a0b8a9697c8\" class=\"colab-df-container\">\n",
              "    <div>\n",
              "<style scoped>\n",
              "    .dataframe tbody tr th:only-of-type {\n",
              "        vertical-align: middle;\n",
              "    }\n",
              "\n",
              "    .dataframe tbody tr th {\n",
              "        vertical-align: top;\n",
              "    }\n",
              "\n",
              "    .dataframe thead th {\n",
              "        text-align: right;\n",
              "    }\n",
              "</style>\n",
              "<table border=\"1\" class=\"dataframe\">\n",
              "  <thead>\n",
              "    <tr style=\"text-align: right;\">\n",
              "      <th></th>\n",
              "      <th>* Damage</th>\n",
              "      <th>count</th>\n",
              "      <th>avg_estimated_premium</th>\n",
              "      <th>median_estimated_premium</th>\n",
              "      <th>total_coverage_A</th>\n",
              "      <th>avg_coverage_A</th>\n",
              "    </tr>\n",
              "  </thead>\n",
              "  <tbody>\n",
              "    <tr>\n",
              "      <th>0</th>\n",
              "      <td>No Damage</td>\n",
              "      <td>14728</td>\n",
              "      <td>1609.586383</td>\n",
              "      <td>1418.304792</td>\n",
              "      <td>7.190558e+09</td>\n",
              "      <td>488223.689193</td>\n",
              "    </tr>\n",
              "    <tr>\n",
              "      <th>1</th>\n",
              "      <td>Affected (1-9%)</td>\n",
              "      <td>1509</td>\n",
              "      <td>1951.050765</td>\n",
              "      <td>1332.783391</td>\n",
              "      <td>9.600149e+08</td>\n",
              "      <td>636192.792200</td>\n",
              "    </tr>\n",
              "    <tr>\n",
              "      <th>2</th>\n",
              "      <td>Minor (10-25%)</td>\n",
              "      <td>399</td>\n",
              "      <td>2292.692025</td>\n",
              "      <td>1431.868829</td>\n",
              "      <td>2.935658e+08</td>\n",
              "      <td>735753.954486</td>\n",
              "    </tr>\n",
              "    <tr>\n",
              "      <th>3</th>\n",
              "      <td>Major (26-50%)</td>\n",
              "      <td>160</td>\n",
              "      <td>1941.485029</td>\n",
              "      <td>1351.861780</td>\n",
              "      <td>9.926854e+07</td>\n",
              "      <td>620428.402125</td>\n",
              "    </tr>\n",
              "    <tr>\n",
              "      <th>4</th>\n",
              "      <td>Destroyed (&gt;50%)</td>\n",
              "      <td>23180</td>\n",
              "      <td>1186.027035</td>\n",
              "      <td>1097.344522</td>\n",
              "      <td>8.257022e+09</td>\n",
              "      <td>356213.190634</td>\n",
              "    </tr>\n",
              "  </tbody>\n",
              "</table>\n",
              "</div>\n",
              "    <div class=\"colab-df-buttons\">\n",
              "\n",
              "  <div class=\"colab-df-container\">\n",
              "    <button class=\"colab-df-convert\" onclick=\"convertToInteractive('df-2982ab89-216a-4ba9-8710-3a0b8a9697c8')\"\n",
              "            title=\"Convert this dataframe to an interactive table.\"\n",
              "            style=\"display:none;\">\n",
              "\n",
              "  <svg xmlns=\"http://www.w3.org/2000/svg\" height=\"24px\" viewBox=\"0 -960 960 960\">\n",
              "    <path d=\"M120-120v-720h720v720H120Zm60-500h600v-160H180v160Zm220 220h160v-160H400v160Zm0 220h160v-160H400v160ZM180-400h160v-160H180v160Zm440 0h160v-160H620v160ZM180-180h160v-160H180v160Zm440 0h160v-160H620v160Z\"/>\n",
              "  </svg>\n",
              "    </button>\n",
              "\n",
              "  <style>\n",
              "    .colab-df-container {\n",
              "      display:flex;\n",
              "      gap: 12px;\n",
              "    }\n",
              "\n",
              "    .colab-df-convert {\n",
              "      background-color: #E8F0FE;\n",
              "      border: none;\n",
              "      border-radius: 50%;\n",
              "      cursor: pointer;\n",
              "      display: none;\n",
              "      fill: #1967D2;\n",
              "      height: 32px;\n",
              "      padding: 0 0 0 0;\n",
              "      width: 32px;\n",
              "    }\n",
              "\n",
              "    .colab-df-convert:hover {\n",
              "      background-color: #E2EBFA;\n",
              "      box-shadow: 0px 1px 2px rgba(60, 64, 67, 0.3), 0px 1px 3px 1px rgba(60, 64, 67, 0.15);\n",
              "      fill: #174EA6;\n",
              "    }\n",
              "\n",
              "    .colab-df-buttons div {\n",
              "      margin-bottom: 4px;\n",
              "    }\n",
              "\n",
              "    [theme=dark] .colab-df-convert {\n",
              "      background-color: #3B4455;\n",
              "      fill: #D2E3FC;\n",
              "    }\n",
              "\n",
              "    [theme=dark] .colab-df-convert:hover {\n",
              "      background-color: #434B5C;\n",
              "      box-shadow: 0px 1px 3px 1px rgba(0, 0, 0, 0.15);\n",
              "      filter: drop-shadow(0px 1px 2px rgba(0, 0, 0, 0.3));\n",
              "      fill: #FFFFFF;\n",
              "    }\n",
              "  </style>\n",
              "\n",
              "    <script>\n",
              "      const buttonEl =\n",
              "        document.querySelector('#df-2982ab89-216a-4ba9-8710-3a0b8a9697c8 button.colab-df-convert');\n",
              "      buttonEl.style.display =\n",
              "        google.colab.kernel.accessAllowed ? 'block' : 'none';\n",
              "\n",
              "      async function convertToInteractive(key) {\n",
              "        const element = document.querySelector('#df-2982ab89-216a-4ba9-8710-3a0b8a9697c8');\n",
              "        const dataTable =\n",
              "          await google.colab.kernel.invokeFunction('convertToInteractive',\n",
              "                                                    [key], {});\n",
              "        if (!dataTable) return;\n",
              "\n",
              "        const docLinkHtml = 'Like what you see? Visit the ' +\n",
              "          '<a target=\"_blank\" href=https://colab.research.google.com/notebooks/data_table.ipynb>data table notebook</a>'\n",
              "          + ' to learn more about interactive tables.';\n",
              "        element.innerHTML = '';\n",
              "        dataTable['output_type'] = 'display_data';\n",
              "        await google.colab.output.renderOutput(dataTable, element);\n",
              "        const docLink = document.createElement('div');\n",
              "        docLink.innerHTML = docLinkHtml;\n",
              "        element.appendChild(docLink);\n",
              "      }\n",
              "    </script>\n",
              "  </div>\n",
              "\n",
              "\n",
              "<div id=\"df-1a6a5986-d1fd-43d5-919a-372afe5d2669\">\n",
              "  <button class=\"colab-df-quickchart\" onclick=\"quickchart('df-1a6a5986-d1fd-43d5-919a-372afe5d2669')\"\n",
              "            title=\"Suggest charts\"\n",
              "            style=\"display:none;\">\n",
              "\n",
              "<svg xmlns=\"http://www.w3.org/2000/svg\" height=\"24px\"viewBox=\"0 0 24 24\"\n",
              "     width=\"24px\">\n",
              "    <g>\n",
              "        <path d=\"M19 3H5c-1.1 0-2 .9-2 2v14c0 1.1.9 2 2 2h14c1.1 0 2-.9 2-2V5c0-1.1-.9-2-2-2zM9 17H7v-7h2v7zm4 0h-2V7h2v10zm4 0h-2v-4h2v4z\"/>\n",
              "    </g>\n",
              "</svg>\n",
              "  </button>\n",
              "\n",
              "<style>\n",
              "  .colab-df-quickchart {\n",
              "      --bg-color: #E8F0FE;\n",
              "      --fill-color: #1967D2;\n",
              "      --hover-bg-color: #E2EBFA;\n",
              "      --hover-fill-color: #174EA6;\n",
              "      --disabled-fill-color: #AAA;\n",
              "      --disabled-bg-color: #DDD;\n",
              "  }\n",
              "\n",
              "  [theme=dark] .colab-df-quickchart {\n",
              "      --bg-color: #3B4455;\n",
              "      --fill-color: #D2E3FC;\n",
              "      --hover-bg-color: #434B5C;\n",
              "      --hover-fill-color: #FFFFFF;\n",
              "      --disabled-bg-color: #3B4455;\n",
              "      --disabled-fill-color: #666;\n",
              "  }\n",
              "\n",
              "  .colab-df-quickchart {\n",
              "    background-color: var(--bg-color);\n",
              "    border: none;\n",
              "    border-radius: 50%;\n",
              "    cursor: pointer;\n",
              "    display: none;\n",
              "    fill: var(--fill-color);\n",
              "    height: 32px;\n",
              "    padding: 0;\n",
              "    width: 32px;\n",
              "  }\n",
              "\n",
              "  .colab-df-quickchart:hover {\n",
              "    background-color: var(--hover-bg-color);\n",
              "    box-shadow: 0 1px 2px rgba(60, 64, 67, 0.3), 0 1px 3px 1px rgba(60, 64, 67, 0.15);\n",
              "    fill: var(--button-hover-fill-color);\n",
              "  }\n",
              "\n",
              "  .colab-df-quickchart-complete:disabled,\n",
              "  .colab-df-quickchart-complete:disabled:hover {\n",
              "    background-color: var(--disabled-bg-color);\n",
              "    fill: var(--disabled-fill-color);\n",
              "    box-shadow: none;\n",
              "  }\n",
              "\n",
              "  .colab-df-spinner {\n",
              "    border: 2px solid var(--fill-color);\n",
              "    border-color: transparent;\n",
              "    border-bottom-color: var(--fill-color);\n",
              "    animation:\n",
              "      spin 1s steps(1) infinite;\n",
              "  }\n",
              "\n",
              "  @keyframes spin {\n",
              "    0% {\n",
              "      border-color: transparent;\n",
              "      border-bottom-color: var(--fill-color);\n",
              "      border-left-color: var(--fill-color);\n",
              "    }\n",
              "    20% {\n",
              "      border-color: transparent;\n",
              "      border-left-color: var(--fill-color);\n",
              "      border-top-color: var(--fill-color);\n",
              "    }\n",
              "    30% {\n",
              "      border-color: transparent;\n",
              "      border-left-color: var(--fill-color);\n",
              "      border-top-color: var(--fill-color);\n",
              "      border-right-color: var(--fill-color);\n",
              "    }\n",
              "    40% {\n",
              "      border-color: transparent;\n",
              "      border-right-color: var(--fill-color);\n",
              "      border-top-color: var(--fill-color);\n",
              "    }\n",
              "    60% {\n",
              "      border-color: transparent;\n",
              "      border-right-color: var(--fill-color);\n",
              "    }\n",
              "    80% {\n",
              "      border-color: transparent;\n",
              "      border-right-color: var(--fill-color);\n",
              "      border-bottom-color: var(--fill-color);\n",
              "    }\n",
              "    90% {\n",
              "      border-color: transparent;\n",
              "      border-bottom-color: var(--fill-color);\n",
              "    }\n",
              "  }\n",
              "</style>\n",
              "\n",
              "  <script>\n",
              "    async function quickchart(key) {\n",
              "      const quickchartButtonEl =\n",
              "        document.querySelector('#' + key + ' button');\n",
              "      quickchartButtonEl.disabled = true;  // To prevent multiple clicks.\n",
              "      quickchartButtonEl.classList.add('colab-df-spinner');\n",
              "      try {\n",
              "        const charts = await google.colab.kernel.invokeFunction(\n",
              "            'suggestCharts', [key], {});\n",
              "      } catch (error) {\n",
              "        console.error('Error during call to suggestCharts:', error);\n",
              "      }\n",
              "      quickchartButtonEl.classList.remove('colab-df-spinner');\n",
              "      quickchartButtonEl.classList.add('colab-df-quickchart-complete');\n",
              "    }\n",
              "    (() => {\n",
              "      let quickchartButtonEl =\n",
              "        document.querySelector('#df-1a6a5986-d1fd-43d5-919a-372afe5d2669 button');\n",
              "      quickchartButtonEl.style.display =\n",
              "        google.colab.kernel.accessAllowed ? 'block' : 'none';\n",
              "    })();\n",
              "  </script>\n",
              "</div>\n",
              "\n",
              "  <div id=\"id_8e5a2292-a0d5-45e1-b199-b620e11e6190\">\n",
              "    <style>\n",
              "      .colab-df-generate {\n",
              "        background-color: #E8F0FE;\n",
              "        border: none;\n",
              "        border-radius: 50%;\n",
              "        cursor: pointer;\n",
              "        display: none;\n",
              "        fill: #1967D2;\n",
              "        height: 32px;\n",
              "        padding: 0 0 0 0;\n",
              "        width: 32px;\n",
              "      }\n",
              "\n",
              "      .colab-df-generate:hover {\n",
              "        background-color: #E2EBFA;\n",
              "        box-shadow: 0px 1px 2px rgba(60, 64, 67, 0.3), 0px 1px 3px 1px rgba(60, 64, 67, 0.15);\n",
              "        fill: #174EA6;\n",
              "      }\n",
              "\n",
              "      [theme=dark] .colab-df-generate {\n",
              "        background-color: #3B4455;\n",
              "        fill: #D2E3FC;\n",
              "      }\n",
              "\n",
              "      [theme=dark] .colab-df-generate:hover {\n",
              "        background-color: #434B5C;\n",
              "        box-shadow: 0px 1px 3px 1px rgba(0, 0, 0, 0.15);\n",
              "        filter: drop-shadow(0px 1px 2px rgba(0, 0, 0, 0.3));\n",
              "        fill: #FFFFFF;\n",
              "      }\n",
              "    </style>\n",
              "    <button class=\"colab-df-generate\" onclick=\"generateWithVariable('damage_analysis')\"\n",
              "            title=\"Generate code using this dataframe.\"\n",
              "            style=\"display:none;\">\n",
              "\n",
              "  <svg xmlns=\"http://www.w3.org/2000/svg\" height=\"24px\"viewBox=\"0 0 24 24\"\n",
              "       width=\"24px\">\n",
              "    <path d=\"M7,19H8.4L18.45,9,17,7.55,7,17.6ZM5,21V16.75L18.45,3.32a2,2,0,0,1,2.83,0l1.4,1.43a1.91,1.91,0,0,1,.58,1.4,1.91,1.91,0,0,1-.58,1.4L9.25,21ZM18.45,9,17,7.55Zm-12,3A5.31,5.31,0,0,0,4.9,8.1,5.31,5.31,0,0,0,1,6.5,5.31,5.31,0,0,0,4.9,4.9,5.31,5.31,0,0,0,6.5,1,5.31,5.31,0,0,0,8.1,4.9,5.31,5.31,0,0,0,12,6.5,5.46,5.46,0,0,0,6.5,12Z\"/>\n",
              "  </svg>\n",
              "    </button>\n",
              "    <script>\n",
              "      (() => {\n",
              "      const buttonEl =\n",
              "        document.querySelector('#id_8e5a2292-a0d5-45e1-b199-b620e11e6190 button.colab-df-generate');\n",
              "      buttonEl.style.display =\n",
              "        google.colab.kernel.accessAllowed ? 'block' : 'none';\n",
              "\n",
              "      buttonEl.onclick = () => {\n",
              "        google.colab.notebook.generateWithVariable('damage_analysis');\n",
              "      }\n",
              "      })();\n",
              "    </script>\n",
              "  </div>\n",
              "\n",
              "    </div>\n",
              "  </div>\n"
            ],
            "application/vnd.google.colaboratory.intrinsic+json": {
              "type": "dataframe",
              "variable_name": "damage_analysis",
              "summary": "{\n  \"name\": \"damage_analysis\",\n  \"rows\": 5,\n  \"fields\": [\n    {\n      \"column\": \"* Damage\",\n      \"properties\": {\n        \"dtype\": \"category\",\n        \"num_unique_values\": 5,\n        \"samples\": [\n          \"Affected (1-9%)\",\n          \"Destroyed (>50%)\",\n          \"Minor (10-25%)\"\n        ],\n        \"semantic_type\": \"\",\n        \"description\": \"\"\n      }\n    },\n    {\n      \"column\": \"count\",\n      \"properties\": {\n        \"dtype\": \"number\",\n        \"std\": 10453,\n        \"min\": 160,\n        \"max\": 23180,\n        \"num_unique_values\": 5,\n        \"samples\": [\n          1509,\n          23180,\n          399\n        ],\n        \"semantic_type\": \"\",\n        \"description\": \"\"\n      }\n    },\n    {\n      \"column\": \"avg_estimated_premium\",\n      \"properties\": {\n        \"dtype\": \"number\",\n        \"std\": 417.94931353606404,\n        \"min\": 1186.027034546871,\n        \"max\": 2292.692025108977,\n        \"num_unique_values\": 5,\n        \"samples\": [\n          1951.0507646099963,\n          1186.027034546871,\n          2292.692025108977\n        ],\n        \"semantic_type\": \"\",\n        \"description\": \"\"\n      }\n    },\n    {\n      \"column\": \"median_estimated_premium\",\n      \"properties\": {\n        \"dtype\": \"number\",\n        \"std\": 134.83844149013566,\n        \"min\": 1097.3445222908251,\n        \"max\": 1431.8688293457858,\n        \"num_unique_values\": 5,\n        \"samples\": [\n          1332.7833909570004,\n          1097.3445222908251,\n          1431.8688293457858\n        ],\n        \"semantic_type\": \"\",\n        \"description\": \"\"\n      }\n    },\n    {\n      \"column\": \"total_coverage_A\",\n      \"properties\": {\n        \"dtype\": \"number\",\n        \"std\": 4014016597.3543873,\n        \"min\": 99268544.34,\n        \"max\": 8257021758.89,\n        \"num_unique_values\": 5,\n        \"samples\": [\n          960014923.4300001,\n          8257021758.89,\n          293565827.84\n        ],\n        \"semantic_type\": \"\",\n        \"description\": \"\"\n      }\n    },\n    {\n      \"column\": \"avg_coverage_A\",\n      \"properties\": {\n        \"dtype\": \"number\",\n        \"std\": 147272.0809067114,\n        \"min\": 356213.19063373597,\n        \"max\": 735753.9544862155,\n        \"num_unique_values\": 5,\n        \"samples\": [\n          636192.7922001326,\n          356213.19063373597,\n          735753.9544862155\n        ],\n        \"semantic_type\": \"\",\n        \"description\": \"\"\n      }\n    }\n  ]\n}"
            }
          },
          "metadata": {},
          "execution_count": 9
        }
      ]
    },
    {
      "cell_type": "markdown",
      "metadata": {
        "formattedRanges": [],
        "cell_id": "3ed1d7402ba74921ba453432ac948d5b",
        "deepnote_cell_type": "text-cell-h3",
        "id": "pw-fEjS3yQ7b"
      },
      "source": [
        "### Findings"
      ]
    },
    {
      "cell_type": "markdown",
      "metadata": {
        "formattedRanges": [],
        "cell_id": "011ad7df93b64d5ab072c4b84dec8e37",
        "deepnote_cell_type": "text-cell-p",
        "id": "XDyKeUtxyQ7b"
      },
      "source": [
        "Properties with minor damage have higher average ($2,292) and median premiums ($1,432) than destroyed properties($1,186 and $1,097, respectively), likely due to policyholders with minor damage holding more comprehensive insurance. The high frequency of destroyed properties (23,180 incidents vs. 399 minor) suggests that lower-cost policies may dilute the average premium in the destroyed category. Additionally, risk mitigation measures and higher average coverage for minor damage properties contribute to the unexpected premium differences."
      ]
    },
    {
      "cell_type": "code",
      "metadata": {
        "source_hash": "1c9d415",
        "execution_start": 1742426115050,
        "execution_millis": 1028,
        "execution_context_id": "b94e09ae-efa2-4619-a9d0-8fd64a8b9e0d",
        "cell_id": "b99c5c335306439e8f3d2097e5f3ba22",
        "deepnote_cell_type": "code",
        "colab": {
          "base_uri": "https://localhost:8080/",
          "height": 1000
        },
        "id": "P-2CJc-pyQ7c",
        "outputId": "f55f4bcb-15f5-4bcd-b5bf-f5f33ebecf9e"
      },
      "source": [
        "# Filter and group the data to include all five damage categories (excluding \"Inaccessible\")\n",
        "comparison_data_all = filtered_premium_by_damage.groupby('* Damage').agg(\n",
        "    avg_coverage_A=('AVG_FIRE_COV_A', 'mean'),\n",
        "    avg_year_built=('Year Built (parcel)', 'mean'),\n",
        "    avg_improved_value=('Assessed Improved Value (parcel)', 'mean'),\n",
        "    roof_features_count=('* Roof Construction', 'count'),\n",
        "    eaves_count=('* Eaves', 'count'),\n",
        "    vent_screen_count=('* Vent Screen', 'count'),\n",
        "    exterior_siding_count=('* Exterior Siding', 'count')\n",
        ").reset_index()\n",
        "\n",
        "# Plot 2: Average Year Built by Damage Level\n",
        "plt.figure(figsize=(8, 5))\n",
        "sns.barplot(x='* Damage', y='avg_year_built', data=comparison_data_all, palette='Greens', order=corrected_damage_order)\n",
        "plt.title('Average Year Built by Damage Level')\n",
        "plt.xlabel('Damage Level')\n",
        "plt.ylabel('Average Year Built')\n",
        "plt.xticks(rotation=45)\n",
        "plt.show()\n",
        "\n",
        "# Plot 3: Average Assessed Improved Value by Damage Level\n",
        "plt.figure(figsize=(8, 5))\n",
        "sns.barplot(x='* Damage', y='avg_improved_value', data=comparison_data_all, palette='Purples', order=corrected_damage_order)\n",
        "plt.title('Average Assessed Improved Value by Damage Level')\n",
        "plt.xlabel('Damage Level')\n",
        "plt.ylabel('Average Assessed Improved Value ($)')\n",
        "plt.xticks(rotation=45)\n",
        "plt.show()"
      ],
      "execution_count": null,
      "outputs": [
        {
          "output_type": "stream",
          "name": "stderr",
          "text": [
            "<ipython-input-10-bda9e6491a3f>:2: FutureWarning: The default of observed=False is deprecated and will be changed to True in a future version of pandas. Pass observed=False to retain current behavior or observed=True to adopt the future default and silence this warning.\n",
            "  comparison_data_all = filtered_premium_by_damage.groupby('* Damage').agg(\n",
            "<ipython-input-10-bda9e6491a3f>:14: FutureWarning: \n",
            "\n",
            "Passing `palette` without assigning `hue` is deprecated and will be removed in v0.14.0. Assign the `x` variable to `hue` and set `legend=False` for the same effect.\n",
            "\n",
            "  sns.barplot(x='* Damage', y='avg_year_built', data=comparison_data_all, palette='Greens', order=corrected_damage_order)\n"
          ]
        },
        {
          "output_type": "display_data",
          "data": {
            "text/plain": [
              "<Figure size 800x500 with 1 Axes>"
            ],
            "image/png": "[encoded data removed]"
          },
          "metadata": {}
        },
        {
          "output_type": "stream",
          "name": "stderr",
          "text": [
            "<ipython-input-10-bda9e6491a3f>:23: FutureWarning: \n",
            "\n",
            "Passing `palette` without assigning `hue` is deprecated and will be removed in v0.14.0. Assign the `x` variable to `hue` and set `legend=False` for the same effect.\n",
            "\n",
            "  sns.barplot(x='* Damage', y='avg_improved_value', data=comparison_data_all, palette='Purples', order=corrected_damage_order)\n"
          ]
        },
        {
          "output_type": "display_data",
          "data": {
            "text/plain": [
              "<Figure size 800x500 with 1 Axes>"
            ],
            "image/png": "[encoded data removed]"
          },
          "metadata": {}
        }
      ]
    },
    {
      "cell_type": "markdown",
      "metadata": {
        "formattedRanges": [],
        "cell_id": "18dc83977a494b588b59fe7075628969",
        "deepnote_cell_type": "text-cell-p",
        "id": "RWBhJv1syQ7c"
      },
      "source": []
    },
    {
      "cell_type": "code",
      "metadata": {
        "source_hash": "7b7ce80",
        "execution_start": 1742426951285,
        "execution_millis": 908,
        "execution_context_id": "b94e09ae-efa2-4619-a9d0-8fd64a8b9e0d",
        "cell_id": "7fdd5ef50eef47b9946661cc8f36329a",
        "deepnote_cell_type": "code",
        "colab": {
          "base_uri": "https://localhost:8080/",
          "height": 809
        },
        "id": "QT9rLjXgyQ7c",
        "outputId": "2a27f68b-59b8-4d84-954f-f1775f4b2c78"
      },
      "source": [
        "missing_values = data.isnull().mean() * 100\n",
        "missing_values.sort_values(ascending=False).plot(kind='bar', figsize=(12, 6), title=\"Missing Values Percentage\")\n",
        "plt.show()"
      ],
      "execution_count": null,
      "outputs": [
        {
          "output_type": "display_data",
          "data": {
            "text/plain": [
              "<Figure size 1200x600 with 1 Axes>"
            ],
            "image/png": "[encoded data removed]"
          },
          "metadata": {}
        }
      ]
    },
    {
      "cell_type": "code",
      "metadata": {
        "source_hash": "6f8396bc",
        "execution_start": 1742426976435,
        "execution_millis": 135,
        "execution_context_id": "b94e09ae-efa2-4619-a9d0-8fd64a8b9e0d",
        "cell_id": "803cb96adee945c998ef43092de62256",
        "deepnote_cell_type": "code",
        "colab": {
          "base_uri": "https://localhost:8080/"
        },
        "id": "Xxy_9pRcyQ7c",
        "outputId": "9f8d443e-ee14-4526-a625-a3097623f9a1"
      },
      "source": [
        "low_variability_cols = [col for col in data.columns if data[col].nunique() == 1]\n",
        "print(\"Columns with low variability:\", low_variability_cols)"
      ],
      "execution_count": null,
      "outputs": [
        {
          "output_type": "stream",
          "name": "stdout",
          "text": [
            "Columns with low variability: ['Hazard Type']\n"
          ]
        }
      ]
    },
    {
      "cell_type": "code",
      "metadata": {
        "source_hash": "94b768a3",
        "execution_start": 1742427142806,
        "execution_millis": 6241,
        "execution_context_id": "b94e09ae-efa2-4619-a9d0-8fd64a8b9e0d",
        "cell_id": "bdb648f5d5d9409684eb5766f566c3e1",
        "deepnote_cell_type": "code",
        "colab": {
          "base_uri": "https://localhost:8080/"
        },
        "id": "mQyiqPOAyQ7c",
        "outputId": "41e352d0-9237-42fc-998f-507673343d0c"
      },
      "source": [
        "# Check duplicate columns\n",
        "duplicate_cols = data.T[data.T.duplicated()].index.tolist()\n",
        "print(\"Potential duplicate columns:\", duplicate_cols)"
      ],
      "execution_count": null,
      "outputs": [
        {
          "output_type": "stream",
          "name": "stdout",
          "text": [
            "Potential duplicate columns: []\n"
          ]
        }
      ]
    },
    {
      "cell_type": "markdown",
      "source": [
        "Checking columns that have too many unique values."
      ],
      "metadata": {
        "id": "my9tRsHimpwU"
      }
    },
    {
      "cell_type": "code",
      "source": [
        "for col in ['OBJECTID', 'Incident Number (e.g. CAAEU 123456)', 'GLOBALID', 'APN (parcel)', 'Site Address (parcel)']:\n",
        "    print(f\"{col}: {data[col].nunique()} unique values out of {len(data)} rows\")"
      ],
      "metadata": {
        "colab": {
          "base_uri": "https://localhost:8080/"
        },
        "id": "LjFLFGNxmhnT",
        "outputId": "8fb2be4b-954c-40ed-a531-e99e1eda2c47"
      },
      "execution_count": 51,
      "outputs": [
        {
          "output_type": "stream",
          "name": "stdout",
          "text": [
            "OBJECTID: 40059 unique values out of 40059 rows\n",
            "Incident Number (e.g. CAAEU 123456): 171 unique values out of 40059 rows\n",
            "GLOBALID: 40059 unique values out of 40059 rows\n",
            "APN (parcel): 33257 unique values out of 40059 rows\n",
            "Site Address (parcel): 31898 unique values out of 40059 rows\n"
          ]
        }
      ]
    },
    {
      "cell_type": "code",
      "source": [
        "damage_by_incident = data.groupby(\"Incident Number (e.g. CAAEU 123456)\")[\"* Damage\"].nunique()\n",
        "print(damage_by_incident.value_counts())"
      ],
      "metadata": {
        "colab": {
          "base_uri": "https://localhost:8080/"
        },
        "id": "GHIgUC2bqp-w",
        "outputId": "7bdbefd4-c3a6-44ca-bd72-58764029a041"
      },
      "execution_count": 64,
      "outputs": [
        {
          "output_type": "stream",
          "name": "stdout",
          "text": [
            "* Damage\n",
            "1    55\n",
            "2    44\n",
            "4    26\n",
            "3    22\n",
            "5    15\n",
            "6     9\n",
            "Name: count, dtype: int64\n"
          ]
        }
      ]
    },
    {
      "cell_type": "markdown",
      "source": [
        "Most incident numbers have one damage type (1) so will not be the best predictor."
      ],
      "metadata": {
        "id": "7GltGWWvq-h2"
      }
    },
    {
      "cell_type": "code",
      "source": [
        "import seaborn as sns\n",
        "import matplotlib.pyplot as plt\n",
        "\n",
        "\n",
        "spatial_cols = [\"Longitude\", \"Latitude\", \"x\", \"y\"]\n",
        "corr_matrix = data[spatial_cols].corr()\n",
        "\n",
        "\n",
        "plt.figure(figsize=(6, 4))\n",
        "sns.heatmap(corr_matrix, annot=True, cmap=\"coolwarm\", linewidths=0.5)\n",
        "plt.title(\"Correlation Between Spatial Features\")\n",
        "plt.show()"
      ],
      "metadata": {
        "colab": {
          "base_uri": "https://localhost:8080/",
          "height": 391
        },
        "id": "-6LpJt_Rn71p",
        "outputId": "d9d7a50f-7fdd-4b4c-d394-d1f68401f124"
      },
      "execution_count": 52,
      "outputs": [
        {
          "output_type": "display_data",
          "data": {
            "text/plain": [
              "<Figure size 600x400 with 2 Axes>"
            ],
            "image/png": "[encoded data removed]"
          },
          "metadata": {}
        }
      ]
    },
    {
      "cell_type": "markdown",
      "source": [
        "Perfect correlation points to redundancy. Will drop columns due to this."
      ],
      "metadata": {
        "id": "mwNmw3TlCnfK"
      }
    },
    {
      "cell_type": "code",
      "source": [
        "# skewness for all numerical columns\n",
        "numerical_cols = data.select_dtypes(include=[np.number]).columns\n",
        "skewness = data[numerical_cols].skew().sort_values(ascending=False)\n",
        "\n",
        "# Display highly skewed features (absolute skew > 1 is considered highly skewed)\n",
        "print(skewness[abs(skewness) > 1])"
      ],
      "metadata": {
        "colab": {
          "base_uri": "https://localhost:8080/"
        },
        "id": "vt4ta1WRqom0",
        "outputId": "a201967d-2631-42d0-eef5-6ed3b7528529"
      },
      "execution_count": 66,
      "outputs": [
        {
          "output_type": "stream",
          "name": "stdout",
          "text": [
            "Assessed Improved Value (parcel)    54.623077\n",
            "AVG_FIRE_COV_A                       2.943591\n",
            "AVG_DEDUCTIBLE                       2.689345\n",
            "AVG_FIRE_COV_C                       1.892483\n",
            "EARNED_PREMIUM                       1.777804\n",
            "Longitude                            1.153070\n",
            "x                                    1.153070\n",
            "y                                   -1.361013\n",
            "Latitude                            -1.410433\n",
            "ZIP_CODE                            -1.915955\n",
            "Year Built (parcel)                 -2.757662\n",
            "dtype: float64\n"
          ]
        }
      ]
    },
    {
      "cell_type": "code",
      "source": [
        "categorical_cols = data.select_dtypes(include=[\"object\"]).columns\n",
        "\n",
        "for col in categorical_cols:\n",
        "    print(f\"\\nFeature: {col}\")\n",
        "    print(data[col].value_counts(normalize=True))  # percentage distribution\n"
      ],
      "metadata": {
        "colab": {
          "base_uri": "https://localhost:8080/"
        },
        "id": "e7l8oXy6sAXu",
        "outputId": "1a862980-226f-43d0-e0d1-cbfbfc10d0a6"
      },
      "execution_count": 67,
      "outputs": [
        {
          "output_type": "stream",
          "name": "stdout",
          "text": [
            "\n",
            "Feature: * Damage\n",
            "* Damage\n",
            "Destroyed (>50%)    0.578646\n",
            "No Damage           0.367658\n",
            "Affected (1-9%)     0.037669\n",
            "Minor (10-25%)      0.009960\n",
            "Major (26-50%)      0.003994\n",
            "Inaccessible        0.002072\n",
            "Name: proportion, dtype: float64\n",
            "\n",
            "Feature: * City\n",
            "* City\n",
            "Unincorporated          0.242281\n",
            "Santa Rosa              0.072638\n",
            "Magalia                 0.042693\n",
            "South Lake Tahoe        0.034526\n",
            "Paradise Northwest B    0.027322\n",
            "                          ...   \n",
            "Beaumont                0.000033\n",
            "#31                     0.000033\n",
            "Kernville               0.000033\n",
            "Grizzly Flat            0.000033\n",
            " Grizzly Flats          0.000033\n",
            "Name: proportion, Length: 307, dtype: float64\n",
            "\n",
            "Feature: * CAL FIRE Unit\n",
            "* CAL FIRE Unit\n",
            "BTU    0.308795\n",
            "LNU    0.243890\n",
            "AEU    0.086872\n",
            "LMU    0.056616\n",
            "SHU    0.044584\n",
            "CZU    0.040590\n",
            "LAC    0.033326\n",
            "ORC    0.028433\n",
            "FKU    0.021493\n",
            "VNC    0.020670\n",
            "TCU    0.014154\n",
            "KRN    0.012606\n",
            "SKU    0.010959\n",
            "NEU    0.010509\n",
            "TUU    0.010460\n",
            "MEU    0.010060\n",
            "MVU    0.009536\n",
            "BEU    0.007164\n",
            "MMU    0.006316\n",
            "RRU    0.005417\n",
            "SCU    0.005267\n",
            "SBC    0.004019\n",
            "TGU    0.003245\n",
            "BDU    0.002521\n",
            "SLU    0.001473\n",
            "HUU    0.001023\n",
            "Name: proportion, dtype: float64\n",
            "\n",
            "Feature: County\n",
            "County\n",
            "Butte              0.308995\n",
            "Sonoma             0.137112\n",
            "El Dorado          0.079784\n",
            "Napa               0.051008\n",
            "Plumas             0.045138\n",
            "Shasta             0.040017\n",
            "Santa Cruz         0.039393\n",
            "Lake               0.038343\n",
            "Los Angeles        0.033347\n",
            "Orange             0.028452\n",
            "Fresno             0.021482\n",
            "Ventura            0.020683\n",
            "Solano             0.015287\n",
            "Calaveras          0.013963\n",
            "Kern               0.012615\n",
            "Lassen             0.011515\n",
            "Siskiyou           0.010966\n",
            "Tulare             0.010416\n",
            "Mendocino          0.009992\n",
            "San Diego          0.009542\n",
            "Monterey           0.007119\n",
            "Alpine             0.005970\n",
            "Trinity            0.005645\n",
            "Riverside          0.005146\n",
            "Nevada             0.004621\n",
            "Madera             0.004047\n",
            "Santa Barbara      0.004022\n",
            "Santa Clara        0.003247\n",
            "Yuba               0.002898\n",
            "Tehama             0.002873\n",
            "Placer             0.002673\n",
            "Yolo               0.002298\n",
            "Mariposa           0.002273\n",
            "San Bernardino     0.001474\n",
            "San Luis Obispo    0.001474\n",
            "San Mateo          0.001224\n",
            "Amador             0.001174\n",
            "Mono               0.001049\n",
            "Stanislaus         0.000749\n",
            "Alameda            0.000699\n",
            "San Joaquin        0.000525\n",
            "Glenn              0.000375\n",
            "Tuolumne           0.000200\n",
            "San Benito         0.000050\n",
            "Contra Costa       0.000050\n",
            "Humboldt           0.000050\n",
            "Kings              0.000025\n",
            "Name: proportion, dtype: float64\n",
            "\n",
            "Feature: * Incident Name\n",
            "* Incident Name\n",
            "Camp                   0.287800\n",
            "Tubbs                  0.086048\n",
            "Caldor                 0.080906\n",
            "Dixie                  0.049053\n",
            "CZU Lightning Cmplx    0.040141\n",
            "                         ...   \n",
            "Plumas                 0.000025\n",
            "Steins                 0.000025\n",
            "Intanko                0.000025\n",
            "Mallard                0.000025\n",
            "Peach                  0.000025\n",
            "Name: proportion, Length: 165, dtype: float64\n",
            "\n",
            "Feature: Incident Number (e.g. CAAEU 123456)\n",
            "Incident Number (e.g. CAAEU 123456)\n",
            "CABTU 016737    0.287800\n",
            "CALNU 010104    0.086123\n",
            "CAENF 024030    0.080906\n",
            "CABTU 009205    0.049053\n",
            "CACZU 005205    0.040141\n",
            "                  ...   \n",
            "CATGU 006582    0.000025\n",
            "CAAEU 018047    0.000025\n",
            "CANEU 014434    0.000025\n",
            "CASHU 005832    0.000025\n",
            "CASHU 005666    0.000025\n",
            "Name: proportion, Length: 171, dtype: float64\n",
            "\n",
            "Feature: Incident Start Date\n",
            "Incident Start Date\n",
            "11/8/2018 12:00:00 AM    0.315460\n",
            "10/8/2017 12:00:00 AM    0.126938\n",
            "8/16/2020 12:00:00 AM    0.081055\n",
            "8/14/2021 12:00:00 AM    0.080906\n",
            "7/13/2021 12:00:00 AM    0.049053\n",
            "                           ...   \n",
            "6/5/2021 12:00:00 AM     0.000025\n",
            "6/26/2021 12:00:00 AM    0.000025\n",
            "6/8/2021 12:00:00 AM     0.000025\n",
            "6/11/2021 12:00:00 AM    0.000025\n",
            "6/7/2021 12:00:00 AM     0.000025\n",
            "Name: proportion, Length: 133, dtype: float64\n",
            "\n",
            "Feature: Hazard Type\n",
            "Hazard Type\n",
            "Fire    1.0\n",
            "Name: proportion, dtype: float64\n",
            "\n",
            "Feature: Structure Defense Actions Taken\n",
            "Structure Defense Actions Taken\n",
            "Unknown                   0.753008\n",
            "Engine Company Actions    0.089551\n",
            "Combination of Actions    0.082732\n",
            "Fire Department           0.021961\n",
            "Hand Crew Fuel Break      0.015042\n",
            "Dozer Fuel Break          0.010028\n",
            "Other                     0.008825\n",
            "Civilian                  0.008724\n",
            "Fire Retardant Drop       0.008022\n",
            "Both                      0.002106\n",
            "Name: proportion, dtype: float64\n",
            "\n",
            "Feature: * Structure Type\n",
            "* Structure Type\n",
            "Single Family Residence Single Story    0.524551\n",
            "Single Family Residence Multi Story     0.310742\n",
            "Mobile Home Double Wide                 0.089268\n",
            "Mobile Home Single Wide                 0.046681\n",
            "Multi Family Residence Multi Story      0.010659\n",
            "Multi Family Residence Single Story     0.010235\n",
            "Mobile Home Triple Wide                 0.007863\n",
            "Name: proportion, dtype: float64\n",
            "\n",
            "Feature: Structure Category\n",
            "Structure Category\n",
            "Single Residence      0.982925\n",
            "Multiple Residence    0.017075\n",
            "Name: proportion, dtype: float64\n",
            "\n",
            "Feature: * Roof Construction\n",
            "* Roof Construction\n",
            "Asphalt           0.400486\n",
            "Fire Resistant    0.169206\n",
            "Metal             0.151313\n",
            "Unknown           0.135024\n",
            "                  0.058265\n",
            "Tile              0.051474\n",
            "Combustible       0.018895\n",
            "Wood              0.007468\n",
            "Concrete          0.004135\n",
            "Other             0.003734\n",
            "Name: proportion, dtype: float64\n",
            "\n",
            "Feature: * Eaves\n",
            "* Eaves\n",
            "Unknown           0.399773\n",
            "Unenclosed        0.350668\n",
            "Enclosed          0.133182\n",
            "                  0.058579\n",
            "No Eaves          0.052986\n",
            "Not Applicable    0.004812\n",
            "Name: proportion, dtype: float64\n",
            "\n",
            "Feature: * Vent Screen\n",
            "* Vent Screen\n",
            "Unknown                 0.299977\n",
            "Mesh Screen > 1/8\"\"     0.252677\n",
            "Mesh Screen <= 1/8\"\"    0.170022\n",
            "No Vents                0.108661\n",
            "Screened                0.092886\n",
            "                        0.058589\n",
            "Unscreened              0.017186\n",
            "Name: proportion, dtype: float64\n",
            "\n",
            "Feature: * Exterior Siding\n",
            "* Exterior Siding\n",
            "Combustible            0.258008\n",
            "Wood                   0.218283\n",
            "Unknown                0.139639\n",
            "Ignition Resistant     0.122316\n",
            "Fire Resistant         0.086690\n",
            "Stucco Brick Cement    0.079223\n",
            "                       0.058455\n",
            "Metal                  0.014708\n",
            "Other                  0.008875\n",
            "Vinyl                  0.008674\n",
            "Stucco/Brick/Cement    0.005129\n",
            "Name: proportion, dtype: float64\n",
            "\n",
            "Feature: * Window Pane\n",
            "* Window Pane\n",
            "Multi Pane     0.427341\n",
            "Single Pane    0.287873\n",
            "Unknown        0.222245\n",
            "               0.058373\n",
            "No Windows     0.004168\n",
            "Name: proportion, dtype: float64\n",
            "\n",
            "Feature: * Deck/Porch On Grade\n",
            "* Deck/Porch On Grade\n",
            "                    0.276442\n",
            "Masonry/Concrete    0.224344\n",
            "No Deck/Porch       0.196435\n",
            "Wood                0.176689\n",
            "Unknown             0.118675\n",
            "Composite           0.007414\n",
            "Name: proportion, dtype: float64\n",
            "\n",
            "Feature: * Deck/Porch Elevated\n",
            "* Deck/Porch Elevated\n",
            "No Deck/Porch       0.326468\n",
            "                    0.276392\n",
            "Wood                0.235952\n",
            "Unknown             0.128735\n",
            "Masonry/Concrete    0.024589\n",
            "Composite           0.007863\n",
            "Name: proportion, dtype: float64\n",
            "\n",
            "Feature: * Patio Cover/Carport Attached to Structure\n",
            "* Patio Cover/Carport Attached to Structure\n",
            "No Patio Cover/Carport    0.335305\n",
            "                          0.276492\n",
            "Combustible               0.214209\n",
            "Unknown                   0.134576\n",
            "Non Combustible           0.039417\n",
            "Name: proportion, dtype: float64\n",
            "\n",
            "Feature: * Fence Attached to Structure\n",
            "* Fence Attached to Structure\n",
            "No Fence           0.559880\n",
            "Non Combustible    0.182624\n",
            "Unknown            0.149743\n",
            "Combustible        0.107753\n",
            "Name: proportion, dtype: float64\n",
            "\n",
            "Feature: APN (parcel)\n",
            "APN (parcel)\n",
            "050-150-111-000    0.003160\n",
            "                   0.003035\n",
            "173-030-001        0.002232\n",
            "223-030-016        0.002082\n",
            "041-430-029-000    0.001956\n",
            "                     ...   \n",
            "326-064-029        0.000025\n",
            "326-062-005        0.000025\n",
            "326-065-037        0.000025\n",
            "326-050-020        0.000025\n",
            "326-071-013        0.000025\n",
            "Name: proportion, Length: 33257, dtype: float64\n",
            "\n",
            "Feature: Site Address (parcel)\n",
            "Site Address (parcel)\n",
            "                                           0.010495\n",
            "ECHO LAKE CA 95721                         0.004270\n",
            " LAKESHORE CA 93634                        0.003550\n",
            "                                           0.003010\n",
            "1400  KILCREASE CIR   PARADISE CA 95969    0.002958\n",
            "                                             ...   \n",
            "6100 N LIBBY RD   PARADISE CA 95969        0.000026\n",
            "6076 N LIBBY RD   PARADISE CA 95969        0.000026\n",
            "1309  DEODARA WAY   PARADISE CA 95969      0.000026\n",
            "5832  INGALLS RD   PARADISE CA 95969       0.000026\n",
            "1450  BILLE RD   PARADISE CA 95969         0.000026\n",
            "Name: proportion, Length: 31898, dtype: float64\n",
            "\n",
            "Feature: GLOBALID\n",
            "GLOBALID\n",
            "405182ec-357e-422c-b17c-38d302098c09    0.000025\n",
            "e1919a06-b4c6-476d-99e5-f0b45b070de8    0.000025\n",
            "b090eeb6-5b18-421e-9723-af7c9144587c    0.000025\n",
            "268da70b-753f-46aa-8fb1-327099337395    0.000025\n",
            "d857babc-7123-4366-a01c-ad2384bb06f1    0.000025\n",
            "                                          ...   \n",
            "b066699d-76c2-4bea-9729-f4b9461baf2e    0.000025\n",
            "87111008-d445-4f50-95ea-a701bbb4cb11    0.000025\n",
            "a30f5c18-9a23-4c82-9526-f3051d7c3449    0.000025\n",
            "e14d315f-3a1e-4baf-a516-cd35205c77ab    0.000025\n",
            "f190c9c3-4149-4401-adea-8a8da9720467    0.000025\n",
            "Name: proportion, Length: 40059, dtype: float64\n",
            "\n",
            "Feature: Structure Defense Action Taken?\n",
            "Structure Defense Action Taken?\n",
            "No         0.751067\n",
            "Unknown    0.187449\n",
            "Yes        0.061484\n",
            "Name: proportion, dtype: float64\n",
            "\n",
            "Feature: POLICY_FORM\n",
            "POLICY_FORM\n",
            "HO    0.835293\n",
            "MO    0.143813\n",
            "HC    0.020894\n",
            "Name: proportion, dtype: float64\n"
          ]
        }
      ]
    },
    {
      "cell_type": "markdown",
      "source": [
        "Structure Category - 98% of values are the same, adds no real information. Will address class imbalance in oversampling in later steps."
      ],
      "metadata": {
        "id": "Wi_QTKcYsjZI"
      }
    },
    {
      "cell_type": "markdown",
      "source": [
        "# Preprocessing for Modeling"
      ],
      "metadata": {
        "id": "eZSyAuQy2ZCa"
      }
    },
    {
      "cell_type": "code",
      "source": [
        "data['* Damage'] = data['* Damage'].astype(\"category\")"
      ],
      "metadata": {
        "id": "eCpnZMji38UZ"
      },
      "execution_count": 347,
      "outputs": []
    },
    {
      "cell_type": "markdown",
      "source": [
        "Removing * in front of column names"
      ],
      "metadata": {
        "id": "c5qTLWm9pKbo"
      }
    },
    {
      "cell_type": "code",
      "source": [
        "data.columns = [col[2:] if col.startswith(\"* \") else col for col in data.columns]\n",
        "print(data.columns)"
      ],
      "metadata": {
        "colab": {
          "base_uri": "https://localhost:8080/"
        },
        "id": "GtMmt1LCmLKA",
        "outputId": "e211caa1-961f-4171-829b-1a0f5d491364"
      },
      "execution_count": 348,
      "outputs": [
        {
          "output_type": "stream",
          "name": "stdout",
          "text": [
            "Index(['OBJECTID', 'Damage', 'City', 'CAL FIRE Unit', 'County',\n",
            "       'Incident Name', 'Incident Number (e.g. CAAEU 123456)',\n",
            "       'Incident Start Date', 'Hazard Type', 'Structure Defense Actions Taken',\n",
            "       'Structure Type', 'Structure Category', 'Roof Construction', 'Eaves',\n",
            "       'Vent Screen', 'Exterior Siding', 'Window Pane', 'Deck/Porch On Grade',\n",
            "       'Deck/Porch Elevated', 'Patio Cover/Carport Attached to Structure',\n",
            "       'Fence Attached to Structure', 'APN (parcel)',\n",
            "       'Assessed Improved Value (parcel)', 'Year Built (parcel)',\n",
            "       'Site Address (parcel)', 'GLOBALID', 'Latitude', 'Longitude', 'x', 'y',\n",
            "       'Structure Defense Action Taken?', 'EXP_YEAR', 'ZIP_CODE',\n",
            "       'POLICY_FORM', 'EARNED_PREMIUM', 'EARNED_EXPOSURE', 'TOTAL_POLICIES',\n",
            "       'AVG_FIRE_COV_A', 'AVG_FIRE_COV_C', 'AVG_DEDUCTIBLE'],\n",
            "      dtype='object')\n"
          ]
        }
      ]
    },
    {
      "cell_type": "markdown",
      "source": [
        "## Dropping Columns with Minimum Predictive Power\n",
        "\n",
        "*   **Dropping columns for large % of missing values:** Structure Defense Actions Taken\n",
        "*   **Acts as unique ID:**  OBJECTID, GLOBALID, APN (parcel), Site Address (parcel), Incident Number (e.g. CAAEU 123456)\n",
        "*  **Redundant columns:** x, y\n",
        "* **Highly Skewed**: Structure Category\n",
        "\n"
      ],
      "metadata": {
        "id": "1aedatgel08X"
      }
    },
    {
      "cell_type": "code",
      "source": [
        "data.drop('Structure Defense Actions Taken', axis=1, inplace=True)\n",
        "\n",
        "data.drop('OBJECTID', axis=1, inplace=True)\n",
        "data.drop('GLOBALID', axis=1, inplace=True)\n",
        "data.drop('Site Address (parcel)', axis=1, inplace=True)\n",
        "data.drop('APN (parcel)', axis=1, inplace=True)\n",
        "data.drop('Incident Number (e.g. CAAEU 123456)', axis=1, inplace=True)\n",
        "\n",
        "data.drop('x', axis=1, inplace=True)\n",
        "data.drop('y', axis=1, inplace=True)\n",
        "\n",
        "data.drop('Structure Category', axis=1, inplace=True)"
      ],
      "metadata": {
        "id": "za1kVaE343NO"
      },
      "execution_count": 349,
      "outputs": []
    },
    {
      "cell_type": "code",
      "source": [
        "data['month'] = pd.DatetimeIndex(data['Incident Start Date']).month\n",
        "data.drop('Incident Start Date', axis=1, inplace=True)"
      ],
      "metadata": {
        "id": "Jq5VHdTWkmGx"
      },
      "execution_count": 350,
      "outputs": []
    },
    {
      "cell_type": "code",
      "source": [
        "data.head(3)"
      ],
      "metadata": {
        "colab": {
          "base_uri": "https://localhost:8080/",
          "height": 384
        },
        "id": "ggUNs7o4tcRM",
        "outputId": "d9fd0223-0bd4-4c17-a441-29625613ee59"
      },
      "execution_count": 351,
      "outputs": [
        {
          "output_type": "execute_result",
          "data": {
            "text/plain": [
              "            Damage     City CAL FIRE Unit  County Incident Name Hazard Type  \\\n",
              "0        No Damage  Winters           LNU  Solano         Quail        Fire   \n",
              "1  Affected (1-9%)  Winters           LNU  Solano         Quail        Fire   \n",
              "2        No Damage  Winters           LNU  Solano         Quail        Fire   \n",
              "\n",
              "                         Structure Type Roof Construction       Eaves  \\\n",
              "0   Single Family Residence Multi Story           Asphalt  Unenclosed   \n",
              "1  Single Family Residence Single Story           Asphalt  Unenclosed   \n",
              "2  Single Family Residence Single Story           Asphalt    Enclosed   \n",
              "\n",
              "            Vent Screen  ... EXP_YEAR ZIP_CODE POLICY_FORM EARNED_PREMIUM  \\\n",
              "0  Mesh Screen <= 1/8\"\"  ...     2020    95688          HO     11443912.0   \n",
              "1  Mesh Screen <= 1/8\"\"  ...     2020    95688          HO     11443912.0   \n",
              "2   Mesh Screen > 1/8\"\"  ...     2020    95688          HO     11443912.0   \n",
              "\n",
              "  EARNED_EXPOSURE TOTAL_POLICIES  AVG_FIRE_COV_A  AVG_FIRE_COV_C  \\\n",
              "0         9163.61         9890.0       527226.94       364522.49   \n",
              "1         9163.61         9890.0       527226.94       364522.49   \n",
              "2         9163.61         9890.0       527226.94       364522.49   \n",
              "\n",
              "   AVG_DEDUCTIBLE  month  \n",
              "0         1682.99      6  \n",
              "1         1682.99      6  \n",
              "2         1682.99      6  \n",
              "\n",
              "[3 rows x 31 columns]"
            ],
            "text/html": [
              "\n",
              "  <div id=\"df-de3c03f9-ff8f-4003-b1da-ebe32f29b0f1\" class=\"colab-df-container\">\n",
              "    <div>\n",
              "<style scoped>\n",
              "    .dataframe tbody tr th:only-of-type {\n",
              "        vertical-align: middle;\n",
              "    }\n",
              "\n",
              "    .dataframe tbody tr th {\n",
              "        vertical-align: top;\n",
              "    }\n",
              "\n",
              "    .dataframe thead th {\n",
              "        text-align: right;\n",
              "    }\n",
              "</style>\n",
              "<table border=\"1\" class=\"dataframe\">\n",
              "  <thead>\n",
              "    <tr style=\"text-align: right;\">\n",
              "      <th></th>\n",
              "      <th>Damage</th>\n",
              "      <th>City</th>\n",
              "      <th>CAL FIRE Unit</th>\n",
              "      <th>County</th>\n",
              "      <th>Incident Name</th>\n",
              "      <th>Hazard Type</th>\n",
              "      <th>Structure Type</th>\n",
              "      <th>Roof Construction</th>\n",
              "      <th>Eaves</th>\n",
              "      <th>Vent Screen</th>\n",
              "      <th>...</th>\n",
              "      <th>EXP_YEAR</th>\n",
              "      <th>ZIP_CODE</th>\n",
              "      <th>POLICY_FORM</th>\n",
              "      <th>EARNED_PREMIUM</th>\n",
              "      <th>EARNED_EXPOSURE</th>\n",
              "      <th>TOTAL_POLICIES</th>\n",
              "      <th>AVG_FIRE_COV_A</th>\n",
              "      <th>AVG_FIRE_COV_C</th>\n",
              "      <th>AVG_DEDUCTIBLE</th>\n",
              "      <th>month</th>\n",
              "    </tr>\n",
              "  </thead>\n",
              "  <tbody>\n",
              "    <tr>\n",
              "      <th>0</th>\n",
              "      <td>No Damage</td>\n",
              "      <td>Winters</td>\n",
              "      <td>LNU</td>\n",
              "      <td>Solano</td>\n",
              "      <td>Quail</td>\n",
              "      <td>Fire</td>\n",
              "      <td>Single Family Residence Multi Story</td>\n",
              "      <td>Asphalt</td>\n",
              "      <td>Unenclosed</td>\n",
              "      <td>Mesh Screen &lt;= 1/8\"\"</td>\n",
              "      <td>...</td>\n",
              "      <td>2020</td>\n",
              "      <td>95688</td>\n",
              "      <td>HO</td>\n",
              "      <td>11443912.0</td>\n",
              "      <td>9163.61</td>\n",
              "      <td>9890.0</td>\n",
              "      <td>527226.94</td>\n",
              "      <td>364522.49</td>\n",
              "      <td>1682.99</td>\n",
              "      <td>6</td>\n",
              "    </tr>\n",
              "    <tr>\n",
              "      <th>1</th>\n",
              "      <td>Affected (1-9%)</td>\n",
              "      <td>Winters</td>\n",
              "      <td>LNU</td>\n",
              "      <td>Solano</td>\n",
              "      <td>Quail</td>\n",
              "      <td>Fire</td>\n",
              "      <td>Single Family Residence Single Story</td>\n",
              "      <td>Asphalt</td>\n",
              "      <td>Unenclosed</td>\n",
              "      <td>Mesh Screen &lt;= 1/8\"\"</td>\n",
              "      <td>...</td>\n",
              "      <td>2020</td>\n",
              "      <td>95688</td>\n",
              "      <td>HO</td>\n",
              "      <td>11443912.0</td>\n",
              "      <td>9163.61</td>\n",
              "      <td>9890.0</td>\n",
              "      <td>527226.94</td>\n",
              "      <td>364522.49</td>\n",
              "      <td>1682.99</td>\n",
              "      <td>6</td>\n",
              "    </tr>\n",
              "    <tr>\n",
              "      <th>2</th>\n",
              "      <td>No Damage</td>\n",
              "      <td>Winters</td>\n",
              "      <td>LNU</td>\n",
              "      <td>Solano</td>\n",
              "      <td>Quail</td>\n",
              "      <td>Fire</td>\n",
              "      <td>Single Family Residence Single Story</td>\n",
              "      <td>Asphalt</td>\n",
              "      <td>Enclosed</td>\n",
              "      <td>Mesh Screen &gt; 1/8\"\"</td>\n",
              "      <td>...</td>\n",
              "      <td>2020</td>\n",
              "      <td>95688</td>\n",
              "      <td>HO</td>\n",
              "      <td>11443912.0</td>\n",
              "      <td>9163.61</td>\n",
              "      <td>9890.0</td>\n",
              "      <td>527226.94</td>\n",
              "      <td>364522.49</td>\n",
              "      <td>1682.99</td>\n",
              "      <td>6</td>\n",
              "    </tr>\n",
              "  </tbody>\n",
              "</table>\n",
              "<p>3 rows × 31 columns</p>\n",
              "</div>\n",
              "    <div class=\"colab-df-buttons\">\n",
              "\n",
              "  <div class=\"colab-df-container\">\n",
              "    <button class=\"colab-df-convert\" onclick=\"convertToInteractive('df-de3c03f9-ff8f-4003-b1da-ebe32f29b0f1')\"\n",
              "            title=\"Convert this dataframe to an interactive table.\"\n",
              "            style=\"display:none;\">\n",
              "\n",
              "  <svg xmlns=\"http://www.w3.org/2000/svg\" height=\"24px\" viewBox=\"0 -960 960 960\">\n",
              "    <path d=\"M120-120v-720h720v720H120Zm60-500h600v-160H180v160Zm220 220h160v-160H400v160Zm0 220h160v-160H400v160ZM180-400h160v-160H180v160Zm440 0h160v-160H620v160ZM180-180h160v-160H180v160Zm440 0h160v-160H620v160Z\"/>\n",
              "  </svg>\n",
              "    </button>\n",
              "\n",
              "  <style>\n",
              "    .colab-df-container {\n",
              "      display:flex;\n",
              "      gap: 12px;\n",
              "    }\n",
              "\n",
              "    .colab-df-convert {\n",
              "      background-color: #E8F0FE;\n",
              "      border: none;\n",
              "      border-radius: 50%;\n",
              "      cursor: pointer;\n",
              "      display: none;\n",
              "      fill: #1967D2;\n",
              "      height: 32px;\n",
              "      padding: 0 0 0 0;\n",
              "      width: 32px;\n",
              "    }\n",
              "\n",
              "    .colab-df-convert:hover {\n",
              "      background-color: #E2EBFA;\n",
              "      box-shadow: 0px 1px 2px rgba(60, 64, 67, 0.3), 0px 1px 3px 1px rgba(60, 64, 67, 0.15);\n",
              "      fill: #174EA6;\n",
              "    }\n",
              "\n",
              "    .colab-df-buttons div {\n",
              "      margin-bottom: 4px;\n",
              "    }\n",
              "\n",
              "    [theme=dark] .colab-df-convert {\n",
              "      background-color: #3B4455;\n",
              "      fill: #D2E3FC;\n",
              "    }\n",
              "\n",
              "    [theme=dark] .colab-df-convert:hover {\n",
              "      background-color: #434B5C;\n",
              "      box-shadow: 0px 1px 3px 1px rgba(0, 0, 0, 0.15);\n",
              "      filter: drop-shadow(0px 1px 2px rgba(0, 0, 0, 0.3));\n",
              "      fill: #FFFFFF;\n",
              "    }\n",
              "  </style>\n",
              "\n",
              "    <script>\n",
              "      const buttonEl =\n",
              "        document.querySelector('#df-de3c03f9-ff8f-4003-b1da-ebe32f29b0f1 button.colab-df-convert');\n",
              "      buttonEl.style.display =\n",
              "        google.colab.kernel.accessAllowed ? 'block' : 'none';\n",
              "\n",
              "      async function convertToInteractive(key) {\n",
              "        const element = document.querySelector('#df-de3c03f9-ff8f-4003-b1da-ebe32f29b0f1');\n",
              "        const dataTable =\n",
              "          await google.colab.kernel.invokeFunction('convertToInteractive',\n",
              "                                                    [key], {});\n",
              "        if (!dataTable) return;\n",
              "\n",
              "        const docLinkHtml = 'Like what you see? Visit the ' +\n",
              "          '<a target=\"_blank\" href=https://colab.research.google.com/notebooks/data_table.ipynb>data table notebook</a>'\n",
              "          + ' to learn more about interactive tables.';\n",
              "        element.innerHTML = '';\n",
              "        dataTable['output_type'] = 'display_data';\n",
              "        await google.colab.output.renderOutput(dataTable, element);\n",
              "        const docLink = document.createElement('div');\n",
              "        docLink.innerHTML = docLinkHtml;\n",
              "        element.appendChild(docLink);\n",
              "      }\n",
              "    </script>\n",
              "  </div>\n",
              "\n",
              "\n",
              "<div id=\"df-7f5f1de7-76d5-4bcc-b84c-831cd954e562\">\n",
              "  <button class=\"colab-df-quickchart\" onclick=\"quickchart('df-7f5f1de7-76d5-4bcc-b84c-831cd954e562')\"\n",
              "            title=\"Suggest charts\"\n",
              "            style=\"display:none;\">\n",
              "\n",
              "<svg xmlns=\"http://www.w3.org/2000/svg\" height=\"24px\"viewBox=\"0 0 24 24\"\n",
              "     width=\"24px\">\n",
              "    <g>\n",
              "        <path d=\"M19 3H5c-1.1 0-2 .9-2 2v14c0 1.1.9 2 2 2h14c1.1 0 2-.9 2-2V5c0-1.1-.9-2-2-2zM9 17H7v-7h2v7zm4 0h-2V7h2v10zm4 0h-2v-4h2v4z\"/>\n",
              "    </g>\n",
              "</svg>\n",
              "  </button>\n",
              "\n",
              "<style>\n",
              "  .colab-df-quickchart {\n",
              "      --bg-color: #E8F0FE;\n",
              "      --fill-color: #1967D2;\n",
              "      --hover-bg-color: #E2EBFA;\n",
              "      --hover-fill-color: #174EA6;\n",
              "      --disabled-fill-color: #AAA;\n",
              "      --disabled-bg-color: #DDD;\n",
              "  }\n",
              "\n",
              "  [theme=dark] .colab-df-quickchart {\n",
              "      --bg-color: #3B4455;\n",
              "      --fill-color: #D2E3FC;\n",
              "      --hover-bg-color: #434B5C;\n",
              "      --hover-fill-color: #FFFFFF;\n",
              "      --disabled-bg-color: #3B4455;\n",
              "      --disabled-fill-color: #666;\n",
              "  }\n",
              "\n",
              "  .colab-df-quickchart {\n",
              "    background-color: var(--bg-color);\n",
              "    border: none;\n",
              "    border-radius: 50%;\n",
              "    cursor: pointer;\n",
              "    display: none;\n",
              "    fill: var(--fill-color);\n",
              "    height: 32px;\n",
              "    padding: 0;\n",
              "    width: 32px;\n",
              "  }\n",
              "\n",
              "  .colab-df-quickchart:hover {\n",
              "    background-color: var(--hover-bg-color);\n",
              "    box-shadow: 0 1px 2px rgba(60, 64, 67, 0.3), 0 1px 3px 1px rgba(60, 64, 67, 0.15);\n",
              "    fill: var(--button-hover-fill-color);\n",
              "  }\n",
              "\n",
              "  .colab-df-quickchart-complete:disabled,\n",
              "  .colab-df-quickchart-complete:disabled:hover {\n",
              "    background-color: var(--disabled-bg-color);\n",
              "    fill: var(--disabled-fill-color);\n",
              "    box-shadow: none;\n",
              "  }\n",
              "\n",
              "  .colab-df-spinner {\n",
              "    border: 2px solid var(--fill-color);\n",
              "    border-color: transparent;\n",
              "    border-bottom-color: var(--fill-color);\n",
              "    animation:\n",
              "      spin 1s steps(1) infinite;\n",
              "  }\n",
              "\n",
              "  @keyframes spin {\n",
              "    0% {\n",
              "      border-color: transparent;\n",
              "      border-bottom-color: var(--fill-color);\n",
              "      border-left-color: var(--fill-color);\n",
              "    }\n",
              "    20% {\n",
              "      border-color: transparent;\n",
              "      border-left-color: var(--fill-color);\n",
              "      border-top-color: var(--fill-color);\n",
              "    }\n",
              "    30% {\n",
              "      border-color: transparent;\n",
              "      border-left-color: var(--fill-color);\n",
              "      border-top-color: var(--fill-color);\n",
              "      border-right-color: var(--fill-color);\n",
              "    }\n",
              "    40% {\n",
              "      border-color: transparent;\n",
              "      border-right-color: var(--fill-color);\n",
              "      border-top-color: var(--fill-color);\n",
              "    }\n",
              "    60% {\n",
              "      border-color: transparent;\n",
              "      border-right-color: var(--fill-color);\n",
              "    }\n",
              "    80% {\n",
              "      border-color: transparent;\n",
              "      border-right-color: var(--fill-color);\n",
              "      border-bottom-color: var(--fill-color);\n",
              "    }\n",
              "    90% {\n",
              "      border-color: transparent;\n",
              "      border-bottom-color: var(--fill-color);\n",
              "    }\n",
              "  }\n",
              "</style>\n",
              "\n",
              "  <script>\n",
              "    async function quickchart(key) {\n",
              "      const quickchartButtonEl =\n",
              "        document.querySelector('#' + key + ' button');\n",
              "      quickchartButtonEl.disabled = true;  // To prevent multiple clicks.\n",
              "      quickchartButtonEl.classList.add('colab-df-spinner');\n",
              "      try {\n",
              "        const charts = await google.colab.kernel.invokeFunction(\n",
              "            'suggestCharts', [key], {});\n",
              "      } catch (error) {\n",
              "        console.error('Error during call to suggestCharts:', error);\n",
              "      }\n",
              "      quickchartButtonEl.classList.remove('colab-df-spinner');\n",
              "      quickchartButtonEl.classList.add('colab-df-quickchart-complete');\n",
              "    }\n",
              "    (() => {\n",
              "      let quickchartButtonEl =\n",
              "        document.querySelector('#df-7f5f1de7-76d5-4bcc-b84c-831cd954e562 button');\n",
              "      quickchartButtonEl.style.display =\n",
              "        google.colab.kernel.accessAllowed ? 'block' : 'none';\n",
              "    })();\n",
              "  </script>\n",
              "</div>\n",
              "\n",
              "    </div>\n",
              "  </div>\n"
            ],
            "application/vnd.google.colaboratory.intrinsic+json": {
              "type": "dataframe",
              "variable_name": "data"
            }
          },
          "metadata": {},
          "execution_count": 351
        }
      ]
    },
    {
      "cell_type": "code",
      "source": [
        "data.info()"
      ],
      "metadata": {
        "colab": {
          "base_uri": "https://localhost:8080/"
        },
        "id": "vluzUDyYt84e",
        "outputId": "4ef80e78-a836-4249-856d-6c7eae2e941e"
      },
      "execution_count": 352,
      "outputs": [
        {
          "output_type": "stream",
          "name": "stdout",
          "text": [
            "<class 'pandas.core.frame.DataFrame'>\n",
            "RangeIndex: 40059 entries, 0 to 40058\n",
            "Data columns (total 31 columns):\n",
            " #   Column                                     Non-Null Count  Dtype   \n",
            "---  ------                                     --------------  -----   \n",
            " 0   Damage                                     40059 non-null  category\n",
            " 1   City                                       30122 non-null  object  \n",
            " 2   CAL FIRE Unit                              40059 non-null  object  \n",
            " 3   County                                     40033 non-null  object  \n",
            " 4   Incident Name                              40059 non-null  object  \n",
            " 5   Hazard Type                                40059 non-null  object  \n",
            " 6   Structure Type                             40059 non-null  object  \n",
            " 7   Roof Construction                          39904 non-null  object  \n",
            " 8   Eaves                                      39690 non-null  object  \n",
            " 9   Vent Screen                                39683 non-null  object  \n",
            " 10  Exterior Siding                            39774 non-null  object  \n",
            " 11  Window Pane                                39830 non-null  object  \n",
            " 12  Deck/Porch On Grade                        40059 non-null  object  \n",
            " 13  Deck/Porch Elevated                        40059 non-null  object  \n",
            " 14  Patio Cover/Carport Attached to Structure  40059 non-null  object  \n",
            " 15  Fence Attached to Structure                28983 non-null  object  \n",
            " 16  Assessed Improved Value (parcel)           38107 non-null  float64 \n",
            " 17  Year Built (parcel)                        24667 non-null  float64 \n",
            " 18  Latitude                                   40059 non-null  float64 \n",
            " 19  Longitude                                  40059 non-null  float64 \n",
            " 20  Structure Defense Action Taken?            40059 non-null  object  \n",
            " 21  EXP_YEAR                                   40059 non-null  int64   \n",
            " 22  ZIP_CODE                                   40059 non-null  int64   \n",
            " 23  POLICY_FORM                                40059 non-null  object  \n",
            " 24  EARNED_PREMIUM                             40059 non-null  float64 \n",
            " 25  EARNED_EXPOSURE                            40059 non-null  float64 \n",
            " 26  TOTAL_POLICIES                             40059 non-null  float64 \n",
            " 27  AVG_FIRE_COV_A                             40059 non-null  float64 \n",
            " 28  AVG_FIRE_COV_C                             40059 non-null  float64 \n",
            " 29  AVG_DEDUCTIBLE                             40059 non-null  float64 \n",
            " 30  month                                      40059 non-null  int32   \n",
            "dtypes: category(1), float64(10), int32(1), int64(2), object(17)\n",
            "memory usage: 9.1+ MB\n"
          ]
        }
      ]
    },
    {
      "cell_type": "markdown",
      "source": [
        "# XGBoost Model -- Baseline & Feature Importance"
      ],
      "metadata": {
        "id": "fPVbnqKX5Hps"
      }
    },
    {
      "cell_type": "code",
      "source": [
        "train, test = train_test_split(data, test_size=0.3, random_state=42)"
      ],
      "metadata": {
        "id": "jOx6JQLNke9Y"
      },
      "execution_count": 246,
      "outputs": []
    },
    {
      "cell_type": "code",
      "source": [
        "label_encoder = LabelEncoder()\n",
        "train['Damage'] = label_encoder.fit_transform(train['Damage'])\n",
        "test['Damage'] = label_encoder.transform(test['Damage'])\n",
        "\n",
        "# Split features and labels\n",
        "X_train = train.drop(columns=['Damage', 'Damage'])  # Feature columns\n",
        "y_train = train['Damage']  # Target column\n",
        "X_test = test.drop(columns=['Damage', 'Damage'])  # Feature columns\n",
        "y_test = test['Damage']  # Target column"
      ],
      "metadata": {
        "id": "5IrUJ8mx-uZS"
      },
      "execution_count": 248,
      "outputs": []
    },
    {
      "cell_type": "code",
      "source": [
        "for col in X_train.select_dtypes(include=['object']).columns:\n",
        "    X_train[col] = X_train[col].astype('category')\n",
        "    X_test[col] = X_test[col].astype('category')\n",
        "\n",
        "# Create DMatrix with enable_categorical set to True so categorical variables don't have to be transformed\n",
        "dtrain = xgb.DMatrix(X_train, label=y_train, enable_categorical=True)\n",
        "dtest = xgb.DMatrix(X_test, label=y_test, enable_categorical=True)"
      ],
      "metadata": {
        "id": "yEJqIbsMkpTy"
      },
      "execution_count": 249,
      "outputs": []
    },
    {
      "cell_type": "code",
      "source": [
        "params = {\n",
        "    'objective': 'multi:softmax',  # Predict class labels directly\n",
        "    'num_class': len(label_encoder.classes_),  # Number of unique classes\n",
        "    'eval_metric': 'mlogloss'  # Multiclass log loss\n",
        "}"
      ],
      "metadata": {
        "id": "fI1leQasksD1"
      },
      "execution_count": 250,
      "outputs": []
    },
    {
      "cell_type": "code",
      "source": [
        "bst = xgb.train(params, dtrain, num_boost_round=100, evals=[(dtrain, 'train'), (dtest, 'test')], early_stopping_rounds=10, verbose_eval=False)"
      ],
      "metadata": {
        "id": "Avnv4yW_kva4"
      },
      "execution_count": 251,
      "outputs": []
    },
    {
      "cell_type": "code",
      "source": [
        "y_pred = bst.predict(dtest)\n",
        "y_pred_labels = label_encoder.inverse_transform(y_pred.astype(int))\n",
        "y_test_labels = label_encoder.inverse_transform(y_test.astype(int))"
      ],
      "metadata": {
        "id": "WPx9DTrMkydL"
      },
      "execution_count": 252,
      "outputs": []
    },
    {
      "cell_type": "code",
      "source": [
        "from sklearn.metrics import accuracy_score, classification_report\n",
        "\n",
        "# Accuracy\n",
        "accuracy = accuracy_score(y_test_labels, y_pred_labels)\n",
        "print(f\"Accuracy: {accuracy * 100:.2f}%\")\n",
        "\n",
        "# Classification report\n",
        "print(classification_report(y_test_labels, y_pred_labels))"
      ],
      "metadata": {
        "colab": {
          "base_uri": "https://localhost:8080/"
        },
        "id": "bKS0L4t5k7ts",
        "outputId": "06969f69-796d-419e-fb9c-99f1cf4c8bf6"
      },
      "execution_count": 253,
      "outputs": [
        {
          "output_type": "stream",
          "name": "stdout",
          "text": [
            "Accuracy: 76.40%\n",
            "              precision    recall  f1-score   support\n",
            "\n",
            "           0       0.17      0.41      0.24       462\n",
            "           1       0.82      0.87      0.85      6935\n",
            "           2       0.25      0.24      0.25        29\n",
            "           3       0.00      0.00      0.00        59\n",
            "           4       0.11      0.10      0.11       111\n",
            "           5       0.86      0.66      0.74      4422\n",
            "\n",
            "    accuracy                           0.76     12018\n",
            "   macro avg       0.37      0.38      0.36     12018\n",
            "weighted avg       0.80      0.76      0.77     12018\n",
            "\n"
          ]
        }
      ]
    },
    {
      "cell_type": "code",
      "source": [
        "importance = bst.get_score(importance_type='weight')\n",
        "\n",
        "# Convert importance to a sorted list for better readability\n",
        "importance = sorted(importance.items(), key=lambda x: x[1], reverse=True)\n",
        "\n",
        "plt.figure(figsize=(10, 8))\n",
        "xgb.plot_importance(bst, importance_type='weight', max_num_features=len(X_train.columns))\n",
        "plt.show()"
      ],
      "metadata": {
        "colab": {
          "base_uri": "https://localhost:8080/",
          "height": 489
        },
        "id": "BSpAANouxaF4",
        "outputId": "a7767148-de7c-4f22-ed38-573a6566726b"
      },
      "execution_count": 254,
      "outputs": [
        {
          "output_type": "display_data",
          "data": {
            "text/plain": [
              "<Figure size 1000x800 with 0 Axes>"
            ]
          },
          "metadata": {}
        },
        {
          "output_type": "display_data",
          "data": {
            "text/plain": [
              "<Figure size 640x480 with 1 Axes>"
            ],
            "image/png": "[encoded data removed]"
          },
          "metadata": {}
        }
      ]
    },
    {
      "cell_type": "markdown",
      "source": [
        "# Further Preprocessing"
      ],
      "metadata": {
        "id": "Xxs8YtbwvkTd"
      }
    },
    {
      "cell_type": "markdown",
      "source": [
        "Adjusting Premiums based on recommendation from industry professional at Cal Insurance."
      ],
      "metadata": {
        "id": "RAo4dl5w7wOq"
      }
    },
    {
      "cell_type": "code",
      "source": [
        "data['TOTAL_POLICIES'] = data['TOTAL_POLICIES'].replace(0, 1)\n",
        "data['AVG_FIRE_COV_A'] = data['AVG_FIRE_COV_A'].replace(0, 1)\n",
        "data['total_fire_cov_a'] = data['TOTAL_POLICIES'] * data['AVG_FIRE_COV_A']"
      ],
      "metadata": {
        "id": "afUWZ18Tvn29"
      },
      "execution_count": 353,
      "outputs": []
    },
    {
      "cell_type": "code",
      "source": [
        "data['prem_per_100k_cov_a'] = np.where(\n",
        "    (data['total_fire_cov_a'] == 1) | (data['TOTAL_POLICIES'] == 2),\n",
        "    data['EARNED_PREMIUM'],  # If total_fire_cov_a is 1 or TOTAL_POLICIES is 2, just take earned premium\n",
        "    (data['EARNED_PREMIUM'] / data['total_fire_cov_a']) * 100000  # Otherwise calculate normally\n",
        ")"
      ],
      "metadata": {
        "id": "CRPTX2HevrR5"
      },
      "execution_count": 354,
      "outputs": []
    },
    {
      "cell_type": "markdown",
      "source": [
        "Dropping columns that are redundant due to new columns that were calculated"
      ],
      "metadata": {
        "id": "4FAFUzZr7_Rb"
      }
    },
    {
      "cell_type": "code",
      "source": [
        "data.drop('EARNED_EXPOSURE', axis=1, inplace=True)\n",
        "data.drop('EARNED_PREMIUM', axis=1, inplace=True)\n",
        "data.drop('AVG_FIRE_COV_A', axis=1, inplace=True)"
      ],
      "metadata": {
        "id": "qbdPccdlvs_P"
      },
      "execution_count": 356,
      "outputs": []
    },
    {
      "cell_type": "markdown",
      "source": [
        "Remapping target variables to numerical values to improve models interoperability and performance."
      ],
      "metadata": {
        "id": "ZwPLxqL38ndE"
      }
    },
    {
      "cell_type": "code",
      "source": [
        "data['Damage'] = data['Damage'].replace({'Destroyed (>50%)': 4, 'No Damage': 0, 'Affected (1-9%)': 1,\n",
        "            'Minor (10-25%)': 2, 'Major (26-50%)': 3, 'Inaccessible': -1})"
      ],
      "metadata": {
        "colab": {
          "base_uri": "https://localhost:8080/"
        },
        "id": "ZK03QX8XvuyV",
        "outputId": "e946ddd2-bfb4-4cd0-f0c1-2e825f02bfd6"
      },
      "execution_count": 358,
      "outputs": [
        {
          "output_type": "stream",
          "name": "stderr",
          "text": [
            "<ipython-input-358-a41e009a910e>:1: FutureWarning: Downcasting behavior in `replace` is deprecated and will be removed in a future version. To retain the old behavior, explicitly call `result.infer_objects(copy=False)`. To opt-in to the future behavior, set `pd.set_option('future.no_silent_downcasting', True)`\n",
            "  data['Damage'] = data['Damage'].replace({'Destroyed (>50%)': 4, 'No Damage': 0, 'Affected (1-9%)': 1,\n",
            "<ipython-input-358-a41e009a910e>:1: FutureWarning: The behavior of Series.replace (and DataFrame.replace) with CategoricalDtype is deprecated. In a future version, replace will only be used for cases that preserve the categories. To change the categories, use ser.cat.rename_categories instead.\n",
            "  data['Damage'] = data['Damage'].replace({'Destroyed (>50%)': 4, 'No Damage': 0, 'Affected (1-9%)': 1,\n"
          ]
        }
      ]
    },
    {
      "cell_type": "markdown",
      "source": [
        "We removed entries where Damage = -1 (\"Inaccessible\") because this category is not useful for prediction. Homeowners would typically have access to their properties, making this classification irrelevant for practical decision-making. Additionally, with only 83 instances out of 40,058, this class is highly underrepresented, making it an impractical target for reliable modeling."
      ],
      "metadata": {
        "id": "Zr54ZMrQ86F9"
      }
    },
    {
      "cell_type": "code",
      "source": [
        "data = data[data['Damage'] != -1]"
      ],
      "metadata": {
        "id": "h1D_mWfIvy7L"
      },
      "execution_count": 360,
      "outputs": []
    },
    {
      "cell_type": "markdown",
      "source": [
        "# Filtered Data results in 39,976 Entries"
      ],
      "metadata": {
        "id": "Qn05tPDiJCMv"
      }
    },
    {
      "cell_type": "code",
      "source": [
        "data.info()"
      ],
      "metadata": {
        "colab": {
          "base_uri": "https://localhost:8080/"
        },
        "id": "ww5PSPz1Ipyc",
        "outputId": "fb6fbec9-68bb-4518-f5ce-2e9e220dd26d"
      },
      "execution_count": 361,
      "outputs": [
        {
          "output_type": "stream",
          "name": "stdout",
          "text": [
            "<class 'pandas.core.frame.DataFrame'>\n",
            "Index: 39976 entries, 0 to 40058\n",
            "Data columns (total 30 columns):\n",
            " #   Column                                     Non-Null Count  Dtype   \n",
            "---  ------                                     --------------  -----   \n",
            " 0   Damage                                     39976 non-null  category\n",
            " 1   City                                       30097 non-null  object  \n",
            " 2   CAL FIRE Unit                              39976 non-null  object  \n",
            " 3   County                                     39950 non-null  object  \n",
            " 4   Incident Name                              39976 non-null  object  \n",
            " 5   Hazard Type                                39976 non-null  object  \n",
            " 6   Structure Type                             39976 non-null  object  \n",
            " 7   Roof Construction                          39821 non-null  object  \n",
            " 8   Eaves                                      39607 non-null  object  \n",
            " 9   Vent Screen                                39600 non-null  object  \n",
            " 10  Exterior Siding                            39691 non-null  object  \n",
            " 11  Window Pane                                39747 non-null  object  \n",
            " 12  Deck/Porch On Grade                        39976 non-null  object  \n",
            " 13  Deck/Porch Elevated                        39976 non-null  object  \n",
            " 14  Patio Cover/Carport Attached to Structure  39976 non-null  object  \n",
            " 15  Fence Attached to Structure                28900 non-null  object  \n",
            " 16  Assessed Improved Value (parcel)           38038 non-null  float64 \n",
            " 17  Year Built (parcel)                        24629 non-null  float64 \n",
            " 18  Latitude                                   39976 non-null  float64 \n",
            " 19  Longitude                                  39976 non-null  float64 \n",
            " 20  Structure Defense Action Taken?            39976 non-null  object  \n",
            " 21  EXP_YEAR                                   39976 non-null  int64   \n",
            " 22  ZIP_CODE                                   39976 non-null  int64   \n",
            " 23  POLICY_FORM                                39976 non-null  object  \n",
            " 24  TOTAL_POLICIES                             39976 non-null  float64 \n",
            " 25  AVG_FIRE_COV_C                             39976 non-null  float64 \n",
            " 26  AVG_DEDUCTIBLE                             39976 non-null  float64 \n",
            " 27  month                                      39976 non-null  int32   \n",
            " 28  total_fire_cov_a                           39976 non-null  float64 \n",
            " 29  prem_per_100k_cov_a                        39976 non-null  float64 \n",
            "dtypes: category(1), float64(9), int32(1), int64(2), object(17)\n",
            "memory usage: 9.0+ MB\n"
          ]
        }
      ]
    },
    {
      "cell_type": "markdown",
      "source": [
        "Hazard Type only has one value which is why it wasn't on the feature importance plot. Dropping due to this."
      ],
      "metadata": {
        "id": "PC_8BEF9_apv"
      }
    },
    {
      "cell_type": "code",
      "source": [
        "print(data['Hazard Type'].value_counts())"
      ],
      "metadata": {
        "colab": {
          "base_uri": "https://localhost:8080/"
        },
        "id": "r4HDWr9m_Y9o",
        "outputId": "19b54826-e799-4a94-8fb6-d61efb6336c9"
      },
      "execution_count": 362,
      "outputs": [
        {
          "output_type": "stream",
          "name": "stdout",
          "text": [
            "Hazard Type\n",
            "Fire    39976\n",
            "Name: count, dtype: int64\n"
          ]
        }
      ]
    },
    {
      "cell_type": "code",
      "source": [
        "data.loc[:, 'Hazard Type'] = None\n",
        "data.drop('Hazard Type', axis=1, inplace=True)"
      ],
      "metadata": {
        "colab": {
          "base_uri": "https://localhost:8080/"
        },
        "id": "IDT29CdJv0v3",
        "outputId": "78560961-eabf-4b39-82ce-94e157c2ec99"
      },
      "execution_count": 363,
      "outputs": [
        {
          "output_type": "stream",
          "name": "stderr",
          "text": [
            "<ipython-input-363-65134fb5d205>:2: SettingWithCopyWarning: \n",
            "A value is trying to be set on a copy of a slice from a DataFrame\n",
            "\n",
            "See the caveats in the documentation: https://pandas.pydata.org/pandas-docs/stable/user_guide/indexing.html#returning-a-view-versus-a-copy\n",
            "  data.drop('Hazard Type', axis=1, inplace=True)\n"
          ]
        }
      ]
    },
    {
      "cell_type": "markdown",
      "source": [
        "### Taking a look at cardinality for categorical varaibles."
      ],
      "metadata": {
        "id": "CRh6azTwEPyO"
      }
    },
    {
      "cell_type": "markdown",
      "source": [
        "Dropping city since it is a high-cardinality categorial variable which can lead to overfitting."
      ],
      "metadata": {
        "id": "O2krQMnyAE9l"
      }
    },
    {
      "cell_type": "code",
      "source": [
        "data[\"City\"].nunique()"
      ],
      "metadata": {
        "colab": {
          "base_uri": "https://localhost:8080/"
        },
        "id": "pau9HsOkBjFI",
        "outputId": "6ddd0d59-eb66-43ea-f3fa-b8090f90ab2f"
      },
      "execution_count": 364,
      "outputs": [
        {
          "output_type": "execute_result",
          "data": {
            "text/plain": [
              "307"
            ]
          },
          "metadata": {},
          "execution_count": 364
        }
      ]
    },
    {
      "cell_type": "code",
      "source": [
        "data.loc[:, 'City'] = None\n",
        "data.drop('City', axis=1, inplace=True)"
      ],
      "metadata": {
        "colab": {
          "base_uri": "https://localhost:8080/"
        },
        "id": "URq3Bea8v2Ux",
        "outputId": "230e26b2-7c2a-48fa-f2ea-552c5fd0dba8"
      },
      "execution_count": 365,
      "outputs": [
        {
          "output_type": "stream",
          "name": "stderr",
          "text": [
            "<ipython-input-365-25af38966420>:2: SettingWithCopyWarning: \n",
            "A value is trying to be set on a copy of a slice from a DataFrame\n",
            "\n",
            "See the caveats in the documentation: https://pandas.pydata.org/pandas-docs/stable/user_guide/indexing.html#returning-a-view-versus-a-copy\n",
            "  data.drop('City', axis=1, inplace=True)\n"
          ]
        }
      ]
    },
    {
      "cell_type": "markdown",
      "source": [
        "Adjusting incident name to binary variable (high impact incident or not) due to high cardinality"
      ],
      "metadata": {
        "id": "34Q2WdRVG8qY"
      }
    },
    {
      "cell_type": "code",
      "source": [
        "num_unique_incidents = data[\"Incident Name\"].nunique()\n",
        "total_entries = len(data)\n",
        "\n",
        "print(f\"Unique Incident Names: {num_unique_incidents}\")\n",
        "print(f\"Total Entries: {total_entries}\")\n",
        "print(f\"Percentage of Unique Values: {num_unique_incidents / total_entries:.2%}\")"
      ],
      "metadata": {
        "colab": {
          "base_uri": "https://localhost:8080/"
        },
        "id": "70Dpd9lEEKhs",
        "outputId": "9ffb49c5-f267-4ceb-f4b6-bcd62094760c"
      },
      "execution_count": 366,
      "outputs": [
        {
          "output_type": "stream",
          "name": "stdout",
          "text": [
            "Unique Incident Names: 165\n",
            "Total Entries: 39976\n",
            "Percentage of Unique Values: 0.41%\n"
          ]
        }
      ]
    },
    {
      "cell_type": "code",
      "source": [
        "incident_counts = data[\"Incident Name\"].value_counts()\n",
        "\n",
        "print(incident_counts.describe())"
      ],
      "metadata": {
        "colab": {
          "base_uri": "https://localhost:8080/"
        },
        "id": "KusZ6osmFeID",
        "outputId": "1257463a-19d1-4415-cf40-febc80cdaa07"
      },
      "execution_count": 367,
      "outputs": [
        {
          "output_type": "stream",
          "name": "stdout",
          "text": [
            "count      165.000000\n",
            "mean       242.278788\n",
            "std       1001.585472\n",
            "min          1.000000\n",
            "25%          2.000000\n",
            "50%         14.000000\n",
            "75%        101.000000\n",
            "max      11529.000000\n",
            "Name: count, dtype: float64\n"
          ]
        }
      ]
    },
    {
      "cell_type": "code",
      "source": [
        "high_impact_count = (incident_counts > 500).sum()\n",
        "low_impact_count = (incident_counts <= 500).sum()\n",
        "\n",
        "print(f\"Incidents with >500 occurrences: {high_impact_count}\")\n",
        "print(f\"Incidents with ≤500 occurrences: {low_impact_count}\")\n"
      ],
      "metadata": {
        "colab": {
          "base_uri": "https://localhost:8080/"
        },
        "id": "gSUmJn8EGB8x",
        "outputId": "310aec60-b2a6-45e5-838d-9293a5f5434f"
      },
      "execution_count": 368,
      "outputs": [
        {
          "output_type": "stream",
          "name": "stdout",
          "text": [
            "Incidents with >500 occurrences: 18\n",
            "Incidents with ≤500 occurrences: 147\n"
          ]
        }
      ]
    },
    {
      "cell_type": "code",
      "source": [
        "# total occurrences of incidents\n",
        "total_occurrences = incident_counts.sum()\n",
        "\n",
        "# proportion of occurrences covered by incidents > 500\n",
        "high_impact_proportion = incident_counts[incident_counts > 500].sum() / total_occurrences * 100\n",
        "\n",
        "print(f\"Percentage of total dataset covered by high-impact incidents (>500 occurrences): {high_impact_proportion:.2f}%\")\n"
      ],
      "metadata": {
        "colab": {
          "base_uri": "https://localhost:8080/"
        },
        "id": "c6BGBsTzGURc",
        "outputId": "73dc9097-10c9-4fab-cab3-9164ccdf7185"
      },
      "execution_count": 369,
      "outputs": [
        {
          "output_type": "stream",
          "name": "stdout",
          "text": [
            "Percentage of total dataset covered by high-impact incidents (>500 occurrences): 83.44%\n"
          ]
        }
      ]
    },
    {
      "cell_type": "code",
      "source": [
        "incident_counts = data['Incident Name'].value_counts()\n",
        "data['high_impact_incident'] = data['Incident Name'].map(lambda x: 1 if incident_counts[x] > 500 else 0) #1 is yes 0 is no"
      ],
      "metadata": {
        "colab": {
          "base_uri": "https://localhost:8080/"
        },
        "id": "biobSTR3v53v",
        "outputId": "ca15377c-234c-4b1d-ca41-2ba18e71744a"
      },
      "execution_count": 370,
      "outputs": [
        {
          "output_type": "stream",
          "name": "stderr",
          "text": [
            "<ipython-input-370-e227352578cc>:2: SettingWithCopyWarning: \n",
            "A value is trying to be set on a copy of a slice from a DataFrame.\n",
            "Try using .loc[row_indexer,col_indexer] = value instead\n",
            "\n",
            "See the caveats in the documentation: https://pandas.pydata.org/pandas-docs/stable/user_guide/indexing.html#returning-a-view-versus-a-copy\n",
            "  data['high_impact_incident'] = data['Incident Name'].map(lambda x: 1 if incident_counts[x] > 500 else 0) #1 is yes 0 is no\n"
          ]
        }
      ]
    },
    {
      "cell_type": "code",
      "source": [
        "data.drop('Incident Name', axis=1, inplace=True)"
      ],
      "metadata": {
        "colab": {
          "base_uri": "https://localhost:8080/"
        },
        "id": "TP_67TAGv_py",
        "outputId": "78452a69-edda-4c7d-ea4b-3347eb2fade2"
      },
      "execution_count": 371,
      "outputs": [
        {
          "output_type": "stream",
          "name": "stderr",
          "text": [
            "<ipython-input-371-c0b709309663>:1: SettingWithCopyWarning: \n",
            "A value is trying to be set on a copy of a slice from a DataFrame\n",
            "\n",
            "See the caveats in the documentation: https://pandas.pydata.org/pandas-docs/stable/user_guide/indexing.html#returning-a-view-versus-a-copy\n",
            "  data.drop('Incident Name', axis=1, inplace=True)\n"
          ]
        }
      ]
    },
    {
      "cell_type": "code",
      "source": [
        "data.columns"
      ],
      "metadata": {
        "colab": {
          "base_uri": "https://localhost:8080/"
        },
        "id": "4e3nMzKQwBYN",
        "outputId": "bfb5bbf8-db29-4a6b-b6de-0f8b8b444014"
      },
      "execution_count": 372,
      "outputs": [
        {
          "output_type": "execute_result",
          "data": {
            "text/plain": [
              "Index(['Damage', 'CAL FIRE Unit', 'County', 'Structure Type',\n",
              "       'Roof Construction', 'Eaves', 'Vent Screen', 'Exterior Siding',\n",
              "       'Window Pane', 'Deck/Porch On Grade', 'Deck/Porch Elevated',\n",
              "       'Patio Cover/Carport Attached to Structure',\n",
              "       'Fence Attached to Structure', 'Assessed Improved Value (parcel)',\n",
              "       'Year Built (parcel)', 'Latitude', 'Longitude',\n",
              "       'Structure Defense Action Taken?', 'EXP_YEAR', 'ZIP_CODE',\n",
              "       'POLICY_FORM', 'TOTAL_POLICIES', 'AVG_FIRE_COV_C', 'AVG_DEDUCTIBLE',\n",
              "       'month', 'total_fire_cov_a', 'prem_per_100k_cov_a',\n",
              "       'high_impact_incident'],\n",
              "      dtype='object')"
            ]
          },
          "metadata": {},
          "execution_count": 372
        }
      ]
    },
    {
      "cell_type": "markdown",
      "source": [
        "# Prepare for modeling"
      ],
      "metadata": {
        "id": "RxSeKYuFHLS0"
      }
    },
    {
      "cell_type": "code",
      "source": [
        "cols_to_encode = ['CAL FIRE Unit', 'County', 'Structure Type',\n",
        "       'Roof Construction', 'Eaves', 'Vent Screen', 'Exterior Siding',\n",
        "       'Window Pane', 'Deck/Porch On Grade', 'Deck/Porch Elevated',\n",
        "       'Patio Cover/Carport Attached to Structure',\n",
        "       'Fence Attached to Structure']\n",
        "\n",
        "def label_encode(df, category):\n",
        "    label_encoder = LabelEncoder()\n",
        "    df.loc[:, category] = label_encoder.fit_transform(df[category].astype(str))"
      ],
      "metadata": {
        "id": "WXRxgtLtwDCf"
      },
      "execution_count": 385,
      "outputs": []
    },
    {
      "cell_type": "code",
      "source": [
        "for c in cols_to_encode:\n",
        "    label_encode(data, c)"
      ],
      "metadata": {
        "id": "2mcK0VsiwK2u"
      },
      "execution_count": 386,
      "outputs": []
    },
    {
      "cell_type": "code",
      "source": [
        "label_encode(data, 'Structure Defense Action Taken?')\n",
        "label_encode(data, 'POLICY_FORM')"
      ],
      "metadata": {
        "id": "ATpKHCCPJj27"
      },
      "execution_count": 387,
      "outputs": []
    },
    {
      "cell_type": "code",
      "source": [
        "data['Damage'] = data['Damage'].astype(int)"
      ],
      "metadata": {
        "colab": {
          "base_uri": "https://localhost:8080/"
        },
        "id": "vj6NWa0-xy3n",
        "outputId": "e5d62ba0-d1f2-4be3-d4fa-ea29acdd3579"
      },
      "execution_count": 388,
      "outputs": [
        {
          "output_type": "stream",
          "name": "stderr",
          "text": [
            "<ipython-input-388-761f2acccf84>:1: SettingWithCopyWarning: \n",
            "A value is trying to be set on a copy of a slice from a DataFrame.\n",
            "Try using .loc[row_indexer,col_indexer] = value instead\n",
            "\n",
            "See the caveats in the documentation: https://pandas.pydata.org/pandas-docs/stable/user_guide/indexing.html#returning-a-view-versus-a-copy\n",
            "  data['Damage'] = data['Damage'].astype(int)\n"
          ]
        }
      ]
    },
    {
      "cell_type": "code",
      "source": [
        "x2 = data.drop('Damage', axis=1)\n",
        "y2 = data[['Damage']]\n",
        "X_train2, X_test2, y_train2, y_test2 = train_test_split(x2, y2, test_size=0.2, random_state=42)\n",
        "X_train2.columns = [str(col) for col in X_train2.columns]\n",
        "X_test2.columns = [str(col) for col in X_test2.columns]\n",
        "X_train2.columns = [col.replace('[', '').replace(']', '').replace('<', '').replace('>', '') for col in X_train2.columns]\n",
        "X_test2.columns = [col.replace('[', '').replace(']', '').replace('<', '').replace('>', '') for col in X_test2.columns]"
      ],
      "metadata": {
        "id": "Yl-Mx6WywR5t"
      },
      "execution_count": 389,
      "outputs": []
    },
    {
      "cell_type": "code",
      "source": [
        "from xgboost import XGBClassifier\n",
        "from sklearn.metrics import accuracy_score, confusion_matrix\n",
        "import numpy as np\n",
        "\n",
        "model3 = XGBClassifier(objective='multi:softmax', num_class=len(np.unique(y2)), eval_metric='mlogloss', n_estimators=100,\n",
        "                       random_state=42)\n",
        "model3.fit(X_train2, y_train2)\n",
        "\n",
        "y_pred2 = model3.predict(X_test2)\n",
        "print(f\" Train Acc: {accuracy_score(y_train2, model3.predict(X_train2))}\")\n",
        "accuracy = accuracy_score(y_test2, y_pred2)\n",
        "print(f\"Test Acc: {accuracy:.4f}\")\n",
        "report = classification_report(y_test2, y_pred2)\n",
        "\n",
        "cm = confusion_matrix(y_test2, y_pred2)\n",
        "print(\"Confusion Matrix:\\n\", cm)\n",
        "\n",
        "print(f\"Classification Report: \\n{report}\")"
      ],
      "metadata": {
        "colab": {
          "base_uri": "https://localhost:8080/"
        },
        "id": "dCJscyzEwUd0",
        "outputId": "2c78aa7c-36cc-4f33-f834-5729b10634e1"
      },
      "execution_count": 390,
      "outputs": [
        {
          "output_type": "stream",
          "name": "stdout",
          "text": [
            " Train Acc: 0.9835209505941214\n",
            "Test Acc: 0.9388\n",
            "Confusion Matrix:\n",
            " [[2893    4    0    0   57]\n",
            " [  65  144   16    7   85]\n",
            " [   8   24   14    2   25]\n",
            " [   3   16    0    2    6]\n",
            " [ 133   28    5    5 4454]]\n",
            "Classification Report: \n",
            "              precision    recall  f1-score   support\n",
            "\n",
            "           0       0.93      0.98      0.96      2954\n",
            "           1       0.67      0.45      0.54       317\n",
            "           2       0.40      0.19      0.26        73\n",
            "           3       0.12      0.07      0.09        27\n",
            "           4       0.96      0.96      0.96      4625\n",
            "\n",
            "    accuracy                           0.94      7996\n",
            "   macro avg       0.62      0.53      0.56      7996\n",
            "weighted avg       0.93      0.94      0.93      7996\n",
            "\n"
          ]
        }
      ]
    },
    {
      "cell_type": "markdown",
      "source": [
        "Train and Test Accuracy are good and are close in value, so model generalizes well. However, there is clearly a class imbalance in the predictions. Will process with SMOTE to oversample minority classes."
      ],
      "metadata": {
        "id": "iiv02iDqzYzC"
      }
    },
    {
      "cell_type": "markdown",
      "source": [
        "# Applying SMOTE to address class imbalance"
      ],
      "metadata": {
        "id": "6EDmZdUr51qU"
      }
    },
    {
      "cell_type": "code",
      "source": [
        "from xgboost import XGBClassifier\n",
        "from sklearn.metrics import accuracy_score, confusion_matrix, classification_report\n",
        "from imblearn.over_sampling import SMOTE\n",
        "from sklearn.impute import SimpleImputer\n",
        "import numpy as np\n",
        "\n",
        "# Handling missing data\n",
        "imputer = SimpleImputer(strategy=\"median\")  # Use median imputation for numerical features\n",
        "X_train_imputed = imputer.fit_transform(X_train2)\n",
        "X_test_imputed = imputer.transform(X_test2)\n",
        "\n",
        "# Applying SMOTE for oversampling minority classes\n",
        "smote = SMOTE(random_state=42)\n",
        "X_train_resampled, y_train_resampled = smote.fit_resample(X_train_imputed, y_train2)\n",
        "\n",
        "# Initialize model\n",
        "model3 = XGBClassifier(objective='multi:softmax',\n",
        "                       num_class=len(np.unique(y_train_resampled)),\n",
        "                       eval_metric='mlogloss',\n",
        "                       n_estimators=100,\n",
        "                       random_state=42)\n",
        "\n",
        "\n",
        "model3.fit(X_train_resampled, y_train_resampled)\n",
        "\n",
        "\n",
        "y_pred2 = model3.predict(X_test_imputed)\n",
        "\n",
        "\n",
        "print(f\"Train Acc: {accuracy_score(y_train_resampled, model3.predict(X_train_resampled)):.4f}\")\n",
        "print(f\"Test Acc: {accuracy_score(y_test2, y_pred2):.4f}\")\n",
        "\n",
        "\n",
        "cm = confusion_matrix(y_test2, y_pred2)\n",
        "print(\"Confusion Matrix:\\n\", cm)\n",
        "\n",
        "\n",
        "report = classification_report(y_test2, y_pred2)\n",
        "print(f\"Classification Report: \\n{report}\")\n"
      ],
      "metadata": {
        "colab": {
          "base_uri": "https://localhost:8080/"
        },
        "id": "7IhudfJkzFY8",
        "outputId": "105037e6-1edb-441e-da23-5a15a5b2a056"
      },
      "execution_count": 391,
      "outputs": [
        {
          "output_type": "stream",
          "name": "stdout",
          "text": [
            "Train Acc: 0.9821\n",
            "Test Acc: 0.9348\n",
            "Confusion Matrix:\n",
            " [[2876   10    2    0   66]\n",
            " [  61  130   26   12   88]\n",
            " [   8   27   14    5   19]\n",
            " [   3   14    2    2    6]\n",
            " [ 126   32    6    8 4453]]\n",
            "Classification Report: \n",
            "              precision    recall  f1-score   support\n",
            "\n",
            "           0       0.94      0.97      0.95      2954\n",
            "           1       0.61      0.41      0.49       317\n",
            "           2       0.28      0.19      0.23        73\n",
            "           3       0.07      0.07      0.07        27\n",
            "           4       0.96      0.96      0.96      4625\n",
            "\n",
            "    accuracy                           0.93      7996\n",
            "   macro avg       0.57      0.52      0.54      7996\n",
            "weighted avg       0.93      0.93      0.93      7996\n",
            "\n"
          ]
        }
      ]
    },
    {
      "cell_type": "markdown",
      "source": [
        "# Model with 3 Damage Categories"
      ],
      "metadata": {
        "id": "h0891gCe1I1B"
      }
    },
    {
      "cell_type": "markdown",
      "source": [
        "The advisor recommended consolidating the categories from five to three to address class imbalance. Additionally, from a business perspective, simplifying the classification into No Damage, Moderate Damage, and Severe Damage aligns better with user expectations and decision-making needs."
      ],
      "metadata": {
        "id": "wXmJpMkx1AmJ"
      }
    },
    {
      "cell_type": "code",
      "source": [
        "final_few = data.copy()"
      ],
      "metadata": {
        "id": "AFbgO8u3mUQS"
      },
      "execution_count": 392,
      "outputs": []
    },
    {
      "cell_type": "code",
      "source": [
        "\n",
        "final_few.columns = final_few.columns.str.replace('[*?\"\" ]+', '', regex=True)  # Remove unwanted characters\n",
        "final_few.columns = final_few.columns.str.replace('/', 'or')  # Replace '/' with 'or'\n",
        "final_few.columns = final_few.columns.str.replace(r'<=', '_lessthanorequal_', regex=True)\n",
        "final_few.columns = final_few.columns.str.replace(r'>', '_greaterthan_', regex=True)\n",
        "final_few.columns = final_few.columns.str.replace(r'[()\\[\\]]', '', regex=True)  # Remove remaining special characters\n",
        "final_few.columns = final_few.columns.str.replace(r'\\s+', '_', regex=True)  # Replace spaces with underscores\n"
      ],
      "metadata": {
        "id": "K7HBP7SY2P1r"
      },
      "execution_count": 393,
      "outputs": []
    },
    {
      "cell_type": "markdown",
      "source": [
        "## Creating 3 Damage Categories"
      ],
      "metadata": {
        "id": "__NVOTV_2XbU"
      }
    },
    {
      "cell_type": "code",
      "source": [
        "final_few['Damage'] = final_few['Damage'].replace(2, 1) # Merge \"Minor (10-25%)\" into \"Affected (1-9%)\"\n",
        "final_few['Damage'] = final_few['Damage'].replace(3, 1) # Merge \"Major (26-50%)\" into \"Affected (1-9%)\"\n",
        "final_few['Damage'] = final_few['Damage'].replace(4, 2) # Keep \"Destroyed (>50%)\" as a separate category\n",
        "final_few['Damage'].value_counts()"
      ],
      "metadata": {
        "colab": {
          "base_uri": "https://localhost:8080/",
          "height": 210
        },
        "id": "qZYxuh4c2PWT",
        "outputId": "90dc8156-2f3c-425f-ed6d-b9690b0e1ee0"
      },
      "execution_count": 394,
      "outputs": [
        {
          "output_type": "execute_result",
          "data": {
            "text/plain": [
              "Damage\n",
              "2    23180\n",
              "0    14728\n",
              "1     2068\n",
              "Name: count, dtype: int64"
            ],
            "text/html": [
              "<div>\n",
              "<style scoped>\n",
              "    .dataframe tbody tr th:only-of-type {\n",
              "        vertical-align: middle;\n",
              "    }\n",
              "\n",
              "    .dataframe tbody tr th {\n",
              "        vertical-align: top;\n",
              "    }\n",
              "\n",
              "    .dataframe thead th {\n",
              "        text-align: right;\n",
              "    }\n",
              "</style>\n",
              "<table border=\"1\" class=\"dataframe\">\n",
              "  <thead>\n",
              "    <tr style=\"text-align: right;\">\n",
              "      <th></th>\n",
              "      <th>count</th>\n",
              "    </tr>\n",
              "    <tr>\n",
              "      <th>Damage</th>\n",
              "      <th></th>\n",
              "    </tr>\n",
              "  </thead>\n",
              "  <tbody>\n",
              "    <tr>\n",
              "      <th>2</th>\n",
              "      <td>23180</td>\n",
              "    </tr>\n",
              "    <tr>\n",
              "      <th>0</th>\n",
              "      <td>14728</td>\n",
              "    </tr>\n",
              "    <tr>\n",
              "      <th>1</th>\n",
              "      <td>2068</td>\n",
              "    </tr>\n",
              "  </tbody>\n",
              "</table>\n",
              "</div><br><label><b>dtype:</b> int64</label>"
            ]
          },
          "metadata": {},
          "execution_count": 394
        }
      ]
    },
    {
      "cell_type": "code",
      "source": [
        "x = final_few.drop('Damage', axis=1)\n",
        "y = final_few[['Damage']]"
      ],
      "metadata": {
        "id": "Y7b2-zOW2V3Y"
      },
      "execution_count": 395,
      "outputs": []
    },
    {
      "cell_type": "code",
      "source": [
        "X_train, X_test, y_train, y_test = train_test_split(x, y, test_size=0.2, random_state=42)\n",
        "X_train.columns = [str(col) for col in X_train.columns]\n",
        "X_test.columns = [str(col) for col in X_test.columns]\n",
        "X_train.columns = [col.replace('[', '').replace(']', '').replace('<', '').replace('>', '') for col in X_train.columns]\n",
        "X_test.columns = [col.replace('[', '').replace(']', '').replace('<', '').replace('>', '') for col in X_test.columns]"
      ],
      "metadata": {
        "id": "6bE_Kxdo2gtJ"
      },
      "execution_count": 396,
      "outputs": []
    },
    {
      "cell_type": "code",
      "source": [
        "scaler = StandardScaler()\n",
        "X_train_scaled = scaler.fit_transform(X_train)\n",
        "X_test_scaled = scaler.transform(X_test)\n",
        "X_train_scaled = scaler.fit_transform(X_train)\n",
        "X_test_scaled = scaler.transform(X_test)"
      ],
      "metadata": {
        "id": "xKPLsesO2ihA"
      },
      "execution_count": 397,
      "outputs": []
    },
    {
      "cell_type": "code",
      "source": [
        "model = XGBClassifier(objective='multi:softmax', num_class=len(np.unique(y)), eval_metric='mlogloss',random_state=42, subsample = 1.0, reg_lambda = 0.1, reg_alpha = 1.0, n_estimators = 100, max_depth = 10, learning_rate = 0.2, gamma = 0, colsample_bytree = 0.6)\n",
        "model.fit(X_train_scaled, y_train)\n",
        "print(f\" Train Acc: {accuracy_score(y_train, model.predict(X_train_scaled))}\")\n",
        "print(f\"Test Acc: {accuracy_score(y_test, model.predict(X_test_scaled)):.4f}\")\n",
        "print(confusion_matrix(y_test, model.predict(X_test_scaled)))\n"
      ],
      "metadata": {
        "colab": {
          "base_uri": "https://localhost:8080/"
        },
        "id": "IyK3khgA2zHY",
        "outputId": "ba133804-ac6c-4084-a9ea-c5185356c67e"
      },
      "execution_count": 398,
      "outputs": [
        {
          "output_type": "stream",
          "name": "stdout",
          "text": [
            " Train Acc: 0.9974671669793621\n",
            "Test Acc: 0.9497\n",
            "[[2882   13   59]\n",
            " [  74  240  103]\n",
            " [ 110   43 4472]]\n"
          ]
        }
      ]
    },
    {
      "cell_type": "code",
      "source": [
        "print(classification_report(y_test, model.predict(X_test_scaled)))"
      ],
      "metadata": {
        "colab": {
          "base_uri": "https://localhost:8080/"
        },
        "id": "M1iYGoxo20r9",
        "outputId": "efa4a883-52bf-475a-ccdc-d8c679920178"
      },
      "execution_count": 399,
      "outputs": [
        {
          "output_type": "stream",
          "name": "stdout",
          "text": [
            "              precision    recall  f1-score   support\n",
            "\n",
            "           0       0.94      0.98      0.96      2954\n",
            "           1       0.81      0.58      0.67       417\n",
            "           2       0.97      0.97      0.97      4625\n",
            "\n",
            "    accuracy                           0.95      7996\n",
            "   macro avg       0.91      0.84      0.87      7996\n",
            "weighted avg       0.95      0.95      0.95      7996\n",
            "\n"
          ]
        }
      ]
    },
    {
      "cell_type": "markdown",
      "source": [
        "# RandomizedSearchCV to find best hyperparameters for model"
      ],
      "metadata": {
        "id": "AqZyNFHF4D8Z"
      }
    },
    {
      "cell_type": "code",
      "source": [
        "from sklearn.model_selection import RandomizedSearchCV\n",
        "\n",
        "param_dist = {\n",
        "    'n_estimators': [50, 100, 200],\n",
        "    'max_depth': [3, 5, 7, 10],\n",
        "    'learning_rate': [0.01, 0.05, 0.1, 0.2],\n",
        "    'subsample': [0.6, 0.8, 1.0],\n",
        "    'colsample_bytree': [0.6, 0.8, 1.0],\n",
        "    'gamma': [0, 0.1, 0.2, 0.3],\n",
        "    'reg_alpha': [0, 0.1, 0.5, 1.0],\n",
        "    'reg_lambda': [0.1, 0.5, 1.0]\n",
        "}\n",
        "\n",
        "xgb_clf = XGBClassifier(objective='multi:softmax', num_class=len(np.unique(y)), eval_metric='mlogloss', random_state=42)\n",
        "\n",
        "# Set up RandomizedSearchCV\n",
        "random_search = RandomizedSearchCV(\n",
        "    estimator=xgb_clf,\n",
        "    param_distributions=param_dist,\n",
        "    n_iter=50,  # Number of parameter settings sampled\n",
        "    scoring='accuracy',\n",
        "    cv=3,  # 3-fold cross-validation\n",
        "    verbose=2,\n",
        "    random_state=42,\n",
        "    n_jobs=-1\n",
        ")\n",
        "# Fit the random search model\n",
        "random_search.fit(X_train_scaled, y_train)\n",
        "\n",
        "# Output the best parameters and the best accuracy score\n",
        "print(f\"Best Parameters: {random_search.best_params_}\")\n",
        "print(f\"Best Accuracy Score: {random_search.best_score_:.4f}\")\n",
        "\n",
        "# Train the model with the best parameters on the full training data\n",
        "best_model = random_search.best_estimator_\n",
        "best_model.fit(X_train_scaled, y_train)\n",
        "\n",
        "# Evaluate the tuned model\n",
        "print(f\"Tuned Train Acc: {accuracy_score(y_train, best_model.predict(X_train_scaled))}\")\n",
        "print(f\"Tuned Test Acc: {accuracy_score(y_test, best_model.predict(X_test_scaled)):.4f}\")\n",
        "print(confusion_matrix(y_test, best_model.predict(X_test_scaled)))"
      ],
      "metadata": {
        "colab": {
          "base_uri": "https://localhost:8080/"
        },
        "id": "2X66DwAG2jzw",
        "outputId": "935ce158-1b52-4a90-c7f2-d6126f6b31e6"
      },
      "execution_count": 210,
      "outputs": [
        {
          "output_type": "stream",
          "name": "stdout",
          "text": [
            "Fitting 3 folds for each of 50 candidates, totalling 150 fits\n",
            "Best Parameters: {'subsample': 1.0, 'reg_lambda': 0.5, 'reg_alpha': 1.0, 'n_estimators': 200, 'max_depth': 10, 'learning_rate': 0.05, 'gamma': 0, 'colsample_bytree': 0.6}\n",
            "Best Accuracy Score: 0.9473\n",
            "Tuned Train Acc: 0.983552220137586\n",
            "Tuned Test Acc: 0.9510\n",
            "[[2892    5   57]\n",
            " [  77  234  106]\n",
            " [ 110   37 4478]]\n"
          ]
        }
      ]
    },
    {
      "cell_type": "code",
      "source": [
        "print(classification_report(y_test, best_model.predict(X_test_scaled)))"
      ],
      "metadata": {
        "colab": {
          "base_uri": "https://localhost:8080/"
        },
        "id": "aGGOGXyx37K6",
        "outputId": "22f8c2d7-0664-4fb6-b2d4-fe677668ce7e"
      },
      "execution_count": 211,
      "outputs": [
        {
          "output_type": "stream",
          "name": "stdout",
          "text": [
            "              precision    recall  f1-score   support\n",
            "\n",
            "           0       0.94      0.98      0.96      2954\n",
            "           1       0.85      0.56      0.68       417\n",
            "           2       0.96      0.97      0.97      4625\n",
            "\n",
            "    accuracy                           0.95      7996\n",
            "   macro avg       0.92      0.84      0.87      7996\n",
            "weighted avg       0.95      0.95      0.95      7996\n",
            "\n"
          ]
        }
      ]
    },
    {
      "cell_type": "markdown",
      "source": [
        "At this point of the pipeline, we utilized AWS Sagemaker models. Please reach out for any further code."
      ],
      "metadata": {
        "id": "9a95iEWN29un"
      }
    }
  ],
  "nbformat": 4,
  "nbformat_minor": 0,
  "metadata": {
    "deepnote_notebook_id": "038277301443444785e94a1c1de154ed",
    "colab": {
      "provenance": [],
      "gpuType": "T4"
    },
    "language_info": {
      "name": "python"
    },
    "kernelspec": {
      "name": "python3",
      "display_name": "Python 3"
    },
    "accelerator": "GPU"
  }
}